{
 "cells": [
  {
   "cell_type": "markdown",
   "id": "345a7359",
   "metadata": {},
   "source": [
    "# Turtle"
   ]
  },
  {
   "cell_type": "code",
   "execution_count": 3,
   "id": "1464b621",
   "metadata": {},
   "outputs": [],
   "source": [
    "from turtle import *"
   ]
  },
  {
   "cell_type": "code",
   "execution_count": 5,
   "id": "484cea37",
   "metadata": {},
   "outputs": [],
   "source": [
    "forward(100)"
   ]
  },
  {
   "cell_type": "code",
   "execution_count": 7,
   "id": "a68d54d5",
   "metadata": {},
   "outputs": [],
   "source": [
    "left(120)"
   ]
  },
  {
   "cell_type": "code",
   "execution_count": null,
   "id": "5d4e067e",
   "metadata": {},
   "outputs": [],
   "source": [
    "from turtle import *\n",
    "color('yellow')\n",
    "begin_fill()\n",
    "while True:\n",
    "    forward(200)\n",
    "    left(170)\n",
    "    if abs(pos()) < 1:\n",
    "        break\n",
    "end_fill()\n",
    "done()"
   ]
  },
  {
   "cell_type": "code",
   "execution_count": null,
   "id": "f2e945e5",
   "metadata": {},
   "outputs": [],
   "source": [
    "import turtle\n",
    "from math import cos, sin, radians\n",
    "\n",
    "def create_l_system(iters, axiom, rules):\n",
    "    start_string = axiom\n",
    "    if iters == 0:\n",
    "        return axiom\n",
    "    end_string = \"\"\n",
    "    for _ in range(iters):\n",
    "        end_string = \"\".join(rules[i] if i in rules else i for i in start_string)\n",
    "        start_string = end_string\n",
    "\n",
    "    return end_string\n",
    "\n",
    "def draw_l_system(t, instructions, angle, distance):\n",
    "    steps = len([i for i in instructions if i in \"FB\"])\n",
    "    step = 1 / steps\n",
    "    i = 0\n",
    "    for cmd in instructions:\n",
    "        if cmd == 'F':\n",
    "            t.forward(distance)\n",
    "        elif cmd == 'B':\n",
    "            t.backward(distance)\n",
    "        elif cmd == '+':\n",
    "            t.right(angle)\n",
    "        elif cmd == '-':\n",
    "            t.left(angle)\n",
    "\n",
    "def calc_length_height(instructions, angle, correction_angle):\n",
    "    current_angle = correction_angle\n",
    "    x_offset = 0\n",
    "    y_offset = 0\n",
    "    min_x = 0\n",
    "    min_y = 0\n",
    "    max_x = 0\n",
    "    max_y = 0\n",
    "    for inst in instructions:\n",
    "        if inst == \"F\":\n",
    "            x_offset += cos(radians(current_angle))\n",
    "            y_offset += sin(radians(current_angle))\n",
    "        elif inst == \"B\":\n",
    "            x_offset -= cos(radians(current_angle))\n",
    "            y_offset -= sin(radians(current_angle))\n",
    "        elif inst == \"+\":\n",
    "            current_angle -= angle\n",
    "        elif inst == \"-\":\n",
    "            current_angle += angle\n",
    "        max_x = max(max_x, x_offset)\n",
    "        min_x = min(min_x, x_offset)\n",
    "        max_y = max(max_y, y_offset)\n",
    "        min_y = min(min_y, y_offset)\n",
    "    \n",
    "    width = abs(max_x) + abs(min_x)\n",
    "    height = abs(max_y) + abs(min_y)\n",
    "\n",
    "\n",
    "    return width, height, abs(min_x), abs(min_y)\n",
    "\n",
    "def main(iterations, axiom, rules, angle, length=None, size=None, correction_angle=0,\n",
    "        y_offset=None, x_offset=None, offset_angle=None, inverted=False, flip_h=False, \n",
    "        flip_v=False, width=None, height=None, margin=None, aspect_ratio=None):\n",
    "\n",
    "    inst = create_l_system(iterations, axiom, rules)\n",
    "\n",
    "    width_, height_, min_x, min_y = calc_length_height(inst, angle, correction_angle)\n",
    "\n",
    "    if width_ == 0 and height_ == 0:\n",
    "        return\n",
    "\n",
    "    if aspect_ratio is None:\n",
    "        if 0 in [width_, height_]:\n",
    "            aspect_ratio = 1\n",
    "        else:\n",
    "            aspect_ratio = width_ / height_\n",
    "\n",
    "    if width is None and height:\n",
    "        width = height / aspect_ratio\n",
    "\n",
    "    if height is None and width:\n",
    "        height = width / aspect_ratio\n",
    "    \n",
    "    if margin is None:\n",
    "        margin = 35\n",
    "\n",
    "    if offset_angle is None:\n",
    "        offset_angle = -90\n",
    "\n",
    "    if length is None:\n",
    "        if width_ > height_:\n",
    "            length = (width - 2 * margin) / width_\n",
    "        else:\n",
    "            length = (height - 2 * margin) / height_\n",
    "    \n",
    "    if width_ * length > width:\n",
    "        length = (width - 2 * margin) / width_\n",
    "    elif height_ * length > height:\n",
    "        length = (height - 2 * margin) / height_\n",
    "    \n",
    "    if x_offset is None:\n",
    "        if width_ >= height_  and (width - width_) <= width_ - 2 * margin :\n",
    "            x_offset = -(width / 2 - margin) + min_x * length\n",
    "        else:\n",
    "            x_offset = -(width / 2) + (width - width_ * length) / 2 + min_x * length\n",
    "    \n",
    "    if y_offset is None:\n",
    "        if height_ >= width_ and (height - height_) <= height_ - 2 * margin :\n",
    "            y_offset = -(height / 2 - margin) + min_y * length\n",
    "        else:\n",
    "            y_offset = -(height / 2) + (height - height_ * length) / 2 + min_y * length\n",
    "\n",
    "    if inverted:\n",
    "        inst = inst.replace('+', '$')\n",
    "        inst = inst.replace('-', '+')\n",
    "        inst = inst.replace('$', '-')\n",
    "        inst = inst.replace('F', '$')\n",
    "        inst = inst.replace('B', 'F')\n",
    "        inst = inst.replace('$', 'B')\n",
    "    \n",
    "    if flip_h:\n",
    "        inst = inst.replace('F', '$')\n",
    "        inst = inst.replace('B', 'F')\n",
    "        inst = inst.replace('$', 'B')\n",
    "        y_offset *= -1\n",
    "\n",
    "    if flip_v:\n",
    "        inst = inst.replace('+', '$')\n",
    "        inst = inst.replace('-', '+')\n",
    "        inst = inst.replace('$', '-')\n",
    "        y_offset *= -1\n",
    "\n",
    "    if size is None:\n",
    "        if length < 3:\n",
    "            size = 1\n",
    "        elif length < 12:\n",
    "            size = 2\n",
    "        elif length < 25:\n",
    "            size = 3\n",
    "        else:            \n",
    "            size = 5\n",
    "\n",
    "    t = turtle.Turtle()\n",
    "    wn = turtle.Screen()\n",
    "    wn.setup(width, height)\n",
    "\n",
    "    t.up()    \n",
    "    t.backward(-x_offset)\n",
    "    t.left(90)\n",
    "    t.backward(-y_offset)\n",
    "    t.left(offset_angle)\n",
    "    t.down()\n",
    "    t.speed(0)\n",
    "    t.pensize(size)\n",
    "    draw_l_system(t, inst, angle, length)\n",
    "    t.hideturtle()\n",
    "    \n",
    "    wn.exitonclick()\n",
    "\n",
    "# Global parameters\n",
    "\n",
    "width = 450\n",
    "\n",
    "title = \"Crystal\"\n",
    "axiom = \"F+F+F+F\"\n",
    "rules = {\"F\":\"FF+F++F+F\"}\n",
    "iterations = 2 # TOP: 6\n",
    "angle = 90\n",
    "\n",
    "main(iterations, axiom, rules, angle, aspect_ratio=1, width=width, flip_v=True)"
   ]
  },
  {
   "cell_type": "code",
   "execution_count": null,
   "id": "86122d22",
   "metadata": {},
   "outputs": [],
   "source": []
  },
  {
   "cell_type": "markdown",
   "id": "84d6aca7",
   "metadata": {},
   "source": [
    "$I = \\int_a^b g(x)dx$\n",
    "\n",
    "Reescribimos \n",
    "\n",
    "$I = \\int_a^b \\frac{g(x)}{f_x(x)}f_x(x) dx$\n",
    "\n",
    "donde $f_x(x)$ es una funcion de densidad de probabilidad.\n",
    "\n",
    "$I=E\\left[\\frac{g(x)}{f(x)}\\right]=\\frac{1}{N} \\sum_{i=1}^N \\frac{g(\\psi_i)}{f(\\psi_i)}$"
   ]
  },
  {
   "cell_type": "code",
   "execution_count": 7,
   "id": "6bbd9b2d",
   "metadata": {},
   "outputs": [],
   "source": [
    "# Monte Carlo de acierto y error, es un metodo particular de generacion por cadenas de markov"
   ]
  },
  {
   "cell_type": "markdown",
   "id": "89050e7f",
   "metadata": {},
   "source": [
    "#### Cual es el criterio para elegir la f(x) ?"
   ]
  },
  {
   "cell_type": "markdown",
   "id": "faa9543f",
   "metadata": {},
   "source": [
    "# Monte Carlo nos permite\n",
    "- Calcular Integrales\n",
    "- Simulacion\n",
    "- Muestreo\n",
    "\n",
    "de algun espacio toma una U(a.b)\n",
    "\n",
    "El espacio en el que vive  o dodne sale la uniforme es una log normal LN\n",
    "Monte Carlo es un Muestreo"
   ]
  },
  {
   "cell_type": "markdown",
   "id": "cb8bd610",
   "metadata": {},
   "source": [
    "## Ejemplo"
   ]
  },
  {
   "cell_type": "code",
   "execution_count": 6,
   "id": "f3cce20a",
   "metadata": {},
   "outputs": [
    {
     "data": {
      "image/png": "[encoded data removed]",
      "text/plain": [
       "<Figure size 400x400 with 1 Axes>"
      ]
     },
     "metadata": {},
     "output_type": "display_data"
    }
   ],
   "source": [
    "import matplotlib.pyplot as plt\n",
    "import numpy as np\n",
    "\n",
    "# Definir los valores de x desde 0 hasta pi/2\n",
    "x = np.linspace(0, np.pi/2, 100)\n",
    "\n",
    "# Calcular los valores de y usando la función seno\n",
    "y = np.sin(x)\n",
    "\n",
    "# Crear la gráfica\n",
    "plt.figure(figsize=[4,4])\n",
    "plt.plot(x, y, label='seno(x)')\n",
    "\n",
    "# Establecer los límites de los ejes\n",
    "plt.xlim(0, np.pi/2)\n",
    "plt.ylim(0, 1)\n",
    "\n",
    "# Añadir etiquetas y título\n",
    "plt.xlabel('x')\n",
    "plt.ylabel('seno(x)')\n",
    "plt.title('Gráfica de la función seno')\n",
    "plt.legend()\n",
    "\n",
    "# Mostrar la gráfica\n",
    "plt.grid(True)\n",
    "plt.show()\n"
   ]
  },
  {
   "cell_type": "markdown",
   "id": "2127cb78",
   "metadata": {},
   "source": [
    "g(x) = sen(x)\n",
    "y = cx"
   ]
  },
  {
   "cell_type": "markdown",
   "id": "78a5d746",
   "metadata": {},
   "source": [
    "$\\int_0^\\frac{\\pi}{2} cx = 1$\n",
    "\n",
    "$c[\\frac{x^2}{2}|_0^\\frac{\\pi}{2}]$\n",
    "\n",
    "$c*\\frac{\\pi^2}{8}=1$\n",
    "\n",
    "$c=\\frac{8}{\\pi^2}$"
   ]
  },
  {
   "cell_type": "code",
   "execution_count": 11,
   "id": "4aa31af0",
   "metadata": {},
   "outputs": [],
   "source": [
    "# La altura es proporcional\n",
    "import numpy as np\n",
    "from math import pi\n",
    "from math import sin"
   ]
  },
  {
   "cell_type": "code",
   "execution_count": 28,
   "id": "5d2b4289",
   "metadata": {},
   "outputs": [
    {
     "data": {
      "text/plain": [
       "1.076651487739351"
      ]
     },
     "execution_count": 28,
     "metadata": {},
     "output_type": "execute_result"
    }
   ],
   "source": [
    "a=0\n",
    "b=pi/2\n",
    "\n",
    "simulacion=9999\n",
    "\n",
    "convergencia = []\n",
    "for i in range(simulacion):\n",
    "    datos = 1000\n",
    "    x = np.random.uniform(a,b,datos)\n",
    "    valor = 1/datos*np.sum(np.sin(x)/((8/pi**2)*x))\n",
    "    convergencia.append(valor)\n",
    "np.mean(convergencia)"
   ]
  },
  {
   "cell_type": "code",
   "execution_count": 29,
   "id": "6dbd3457",
   "metadata": {},
   "outputs": [],
   "source": [
    "valor_convergente = np.cumsum(convergencia)/np.arange(1,simulacion+1)"
   ]
  },
  {
   "cell_type": "code",
   "execution_count": 30,
   "id": "3f52824c",
   "metadata": {},
   "outputs": [],
   "source": [
    "import matplotlib.pyplot as plt"
   ]
  },
  {
   "cell_type": "code",
   "execution_count": 31,
   "id": "c91332a0",
   "metadata": {},
   "outputs": [
    {
     "data": {
      "image/png": "[encoded data removed]",
      "text/plain": [
       "<Figure size 640x480 with 1 Axes>"
      ]
     },
     "metadata": {},
     "output_type": "display_data"
    }
   ],
   "source": [
    "plt.plot(valor_convergente)\n",
    "plt.grid(True)\n",
    "plt.xlabel(\"simulaciones\")\n",
    "plt.ylabel(\"Valor\")\n",
    "plt.axhline(np.mean(convergencia), color='r', linestyle='-')\n",
    "plt.show()"
   ]
  },
  {
   "cell_type": "markdown",
   "id": "88d3bfcb",
   "metadata": {},
   "source": [
    "## Integración de $\\sin(x)$ desde $0$ hasta $\\frac{\\pi}{2}$\n",
    "\n",
    "Para encontrar el valor de la integral de $\\sin(x)$ en el intervalo de $[0, \\frac{\\pi}{2}]$, seguimos los siguientes pasos:\n",
    "\n",
    "1. **Planteamiento de la Integral**\n",
    "\n",
    "   La integral que queremos calcular es:\n",
    "\n",
    "   $$\\int_0^{\\frac{\\pi}{2}} \\sin(x) \\, dx$$\n",
    "\n",
    "2. **Aplicación de la Fórmula de Integración**\n",
    "\n",
    "   Sabemos que la integral indefinida de $\\sin(x)$ es $-\\cos(x)$. Entonces, al integrar dentro de los límites de $0$ a $\\frac{\\pi}{2}$, obtenemos:\n",
    "\n",
    "   $$-\\cos(x) \\Big|_0^{\\frac{\\pi}{2}}$$\n",
    "\n",
    "3. **Evaluación en los Límites de Integración**\n",
    "\n",
    "   Ahora, evaluamos la función antiderivada $-\\cos(x)$ en los límites superior e inferior, y restamos:\n",
    "\n",
    "   $$= -\\cos\\left(\\frac{\\pi}{2}\\right) - (-\\cos(0))$$\n",
    "\n",
    "   Dado que $\\cos\\left(\\frac{\\pi}{2}\\right) = 0$ y $\\cos(0) = 1$, esto se simplifica a:\n",
    "\n",
    "   $$= -0 + 1 = 1$$\n",
    "\n",
    "Por lo tanto, el resultado de la integral de $\\sin(x)$ desde $0$ hasta $\\frac{\\pi}{2}$ es **1**."
   ]
  },
  {
   "cell_type": "code",
   "execution_count": null,
   "id": "ac7c6313",
   "metadata": {},
   "outputs": [],
   "source": []
  }
 ],
 "metadata": {
  "kernelspec": {
   "display_name": "sim2",
   "language": "python",
   "name": "sim2"
  },
  "language_info": {
   "codemirror_mode": {
    "name": "ipython",
    "version": 3
   },
   "file_extension": ".py",
   "mimetype": "text/x-python",
   "name": "python",
   "nbconvert_exporter": "python",
   "pygments_lexer": "ipython3",
   "version": "3.10.12"
  }
 },
 "nbformat": 4,
 "nbformat_minor": 5
}
