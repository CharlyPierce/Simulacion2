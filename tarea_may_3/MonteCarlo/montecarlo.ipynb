{
 "cells": [
  {
   "cell_type": "code",
   "execution_count": 1,
   "id": "3b3186cd",
   "metadata": {},
   "outputs": [],
   "source": [
    "import pandas as pd\n",
    "import numpy as np\n",
    "import matplotlib.pyplot as plt"
   ]
  },
  {
   "cell_type": "markdown",
   "id": "623ff24c",
   "metadata": {},
   "source": [
    "# Estimación de la integral de $f(x)$ en $(0, 1)$\n",
    "\n",
    "Se desea estimar la integral de la función $f(x) = \\frac{e^x - 1}{e - 1}$ en el intervalo $(0, 1)$ utilizando los siguientes métodos:\n",
    "\n",
    "## Métodos de estimación\n",
    "\n",
    "1. **Media Muestral**\n",
    "2. **Acierto y Error**\n",
    "3. **Muestreo de Importancia**\n",
    "4. **Muestreo Estratificado**\n",
    "\n",
    "Comparar los resultados en una tabla, incluyendo la razón de varianzas.\n"
   ]
  },
  {
   "cell_type": "code",
   "execution_count": 2,
   "id": "aa03788a",
   "metadata": {},
   "outputs": [
    {
     "data": {
      "text/plain": [
       "{'Media Muestral': (0.41736491768302164, 0.08153901957500284),\n",
       " 'Acierto y Error': (0.353376256411055, 1.3880619351826244e-05),\n",
       " 'Muestreo de Importancia': (0.41980613433170183, 0.0827737690539078),\n",
       " 'Muestreo Estratificado': (0.41803160137706474, 0.0008878565188057976)}"
      ]
     },
     "execution_count": 2,
     "metadata": {},
     "output_type": "execute_result"
    }
   ],
   "source": [
    "import numpy as np\n",
    "\n",
    "# Definición de la función\n",
    "def f(x):\n",
    "    e = np.exp(1)\n",
    "    return (np.exp(x) - 1) / (e - 1)\n",
    "\n",
    "# Número de muestras\n",
    "N = 10000\n",
    "\n",
    "# a) Método de la Media Muestral\n",
    "def media_muestral(N):\n",
    "    muestras = f(np.random.uniform(0, 1, N))\n",
    "    integral = np.mean(muestras)\n",
    "    varianza = np.var(muestras)\n",
    "    return integral, varianza\n",
    "\n",
    "# b) Método de Acierto y Error\n",
    "def acierto_error(N):\n",
    "    bajo = 0\n",
    "    alto = 1 / (np.exp(1) - 1)\n",
    "    cuenta_aciertos = 0\n",
    "    for _ in range(N):\n",
    "        x = np.random.uniform(0, 1)\n",
    "        y = np.random.uniform(bajo, alto)\n",
    "        if y < f(x):\n",
    "            cuenta_aciertos += 1\n",
    "    integral = cuenta_aciertos / N * (alto - bajo)\n",
    "    varianza = integral * (1 - integral / (alto - bajo)) / N  # Binomial variance approximation\n",
    "    return integral, varianza\n",
    "\n",
    "# c) Muestreo de Importancia\n",
    "def muestreo_importancia(N):\n",
    "    # Usando una distribución uniforme como función de importancia \n",
    "    muestras = f(np.random.uniform(0, 1, N)) / np.full(N, 1/(1 - 0))\n",
    "    integral = np.mean(muestras)\n",
    "    varianza = np.var(muestras)\n",
    "    return integral, varianza\n",
    "\n",
    "# d) Muestreo Estratificado\n",
    "def muestreo_estratificado(N):\n",
    "    estratos = 10\n",
    "    integral = 0\n",
    "    varianza = 0\n",
    "    for i in range(estratos):\n",
    "        a = i / estratos\n",
    "        b = (i + 1) / estratos\n",
    "        muestras = f(np.random.uniform(a, b, N // estratos))\n",
    "        integral += np.mean(muestras) * (b - a)\n",
    "        varianza += np.var(muestras) / estratos\n",
    "    return integral, varianza\n",
    "\n",
    "# Cálculo de las integrales y varianzas usando cada método\n",
    "resultados = {}\n",
    "resultados['Media Muestral'] = media_muestral(N)\n",
    "resultados['Acierto y Error'] = acierto_error(N)\n",
    "resultados['Muestreo de Importancia'] = muestreo_importancia(N)\n",
    "resultados['Muestreo Estratificado'] = muestreo_estratificado(N)\n",
    "\n",
    "resultados\n"
   ]
  },
  {
   "cell_type": "markdown",
   "id": "9607b2ef",
   "metadata": {},
   "source": [
    "## Comparación de resultados\n",
    "\n",
    "La siguiente tabla muestra los resultados obtenidos por cada método, incluyendo la razón de varianzas:\n",
    "\n",
    "| Método                  | Estimación de la integral | Razón de Varianzas |\n",
    "|-------------------------|---------------------------|--------------------|\n",
    "| Media Muestral          | 0.4174                         | 0.0815                  |\n",
    "| Acierto y Error         | 0.3533                         | 1.3880                  |\n",
    "| Muestreo de Importancia | 0.4198                         | 0.0827                  |\n",
    "| Muestreo Estratificado  | 0.4180                         | 0.0008                  |\n"
   ]
  }
 ],
 "metadata": {
  "kernelspec": {
   "display_name": "sim2",
   "language": "python",
   "name": "sim2"
  },
  "language_info": {
   "codemirror_mode": {
    "name": "ipython",
    "version": 3
   },
   "file_extension": ".py",
   "mimetype": "text/x-python",
   "name": "python",
   "nbconvert_exporter": "python",
   "pygments_lexer": "ipython3",
   "version": "3.10.12"
  }
 },
 "nbformat": 4,
 "nbformat_minor": 5
}
