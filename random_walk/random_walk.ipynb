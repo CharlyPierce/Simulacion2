{
 "cells": [
  {
   "cell_type": "markdown",
   "id": "ed99fd6f",
   "metadata": {},
   "source": [
    "# Caminata aleatoria con n pasos"
   ]
  },
  {
   "cell_type": "code",
   "execution_count": 23,
   "id": "ed518bcf",
   "metadata": {},
   "outputs": [],
   "source": [
    "import matplotlib.pyplot as plt\n",
    "from PIL import Image\n",
    "\n",
    "# Cargar la imagen\n",
    "img = Image.open('')\n",
    "\n",
    "plt.imshow(img)\n",
    "plt.show()"
   ]
  },
  {
   "cell_type": "code",
   "execution_count": 52,
   "id": "2ecbecef",
   "metadata": {},
   "outputs": [],
   "source": [
    "import random\n",
    "import numpy as np\n",
    "import pandas as pd"
   ]
  },
  {
   "cell_type": "code",
   "execution_count": 27,
   "id": "ab44d2ad",
   "metadata": {},
   "outputs": [],
   "source": [
    "def caminata(n):\n",
    "    x=0\n",
    "    y=0\n",
    "    walk=[]\n",
    "    for i in range(n):\n",
    "        paso = random.choice(['N','S','E','O'])\n",
    "        walk.append(paso)\n",
    "        if paso=='N': y=y+1\n",
    "        elif paso=='S': y=y-1 \n",
    "        elif paso=='E': x=x+1 \n",
    "        elif paso=='O': x=x-1 \n",
    "#    print(walk)\n",
    "#    print('x:',x,'y:',y)\n",
    "    return(x,y)"
   ]
  },
  {
   "cell_type": "code",
   "execution_count": 58,
   "id": "64b342ea",
   "metadata": {},
   "outputs": [],
   "source": [
    "for i in range(2):\n",
    "    d=[]\n",
    "    for j in range(31):\n",
    "        c=caminata(j)\n",
    "        d.append(abs(c[0])+abs(c[1]))\n",
    "        #print(c,\"distancia=\",abs(c[0])+abs(c[1]))\n",
    "    resul = pd.Series(d).value_counts()"
   ]
  },
  {
   "cell_type": "code",
   "execution_count": 42,
   "id": "74e1d87f",
   "metadata": {},
   "outputs": [
    {
     "data": {
      "text/plain": [
       "(array([2, 4, 6, 8]), array([12, 11,  1,  1]))"
      ]
     },
     "execution_count": 42,
     "metadata": {},
     "output_type": "execute_result"
    }
   ],
   "source": [
    "d=np.array(d)\n",
    "np.unique(d, return_counts=True)"
   ]
  },
  {
   "cell_type": "code",
   "execution_count": 69,
   "id": "4a8853f3",
   "metadata": {},
   "outputs": [
    {
     "name": "stdout",
     "output_type": "stream",
     "text": [
      "Pasos= 1 \t % exitos= 100.0\n",
      "Pasos= 2 \t % exitos= 100.0\n",
      "Pasos= 3 \t % exitos= 100.0\n",
      "Pasos= 4 \t % exitos= 100.0\n",
      "Pasos= 5 \t % exitos= 87.78\n",
      "Pasos= 6 \t % exitos= 93.84599999999999\n",
      "Pasos= 7 \t % exitos= 76.49000000000001\n",
      "Pasos= 8 \t % exitos= 86.156\n",
      "Pasos= 9 \t % exitos= 67.35600000000001\n",
      "Pasos= 10 \t % exitos= 79.498\n",
      "Pasos= 11 \t % exitos= 59.952000000000005\n",
      "Pasos= 12 \t % exitos= 73.248\n",
      "Pasos= 13 \t % exitos= 53.693999999999996\n",
      "Pasos= 14 \t % exitos= 67.306\n",
      "Pasos= 15 \t % exitos= 48.668\n",
      "Pasos= 16 \t % exitos= 62.682\n",
      "Pasos= 17 \t % exitos= 44.538\n",
      "Pasos= 18 \t % exitos= 57.864000000000004\n",
      "Pasos= 19 \t % exitos= 41.412\n",
      "Pasos= 20 \t % exitos= 54.205999999999996\n",
      "Pasos= 21 \t % exitos= 38.528\n",
      "Pasos= 22 \t % exitos= 50.99399999999999\n",
      "Pasos= 23 \t % exitos= 35.304\n",
      "Pasos= 24 \t % exitos= 47.967999999999996\n",
      "Pasos= 25 \t % exitos= 33.046\n",
      "Pasos= 26 \t % exitos= 45.486\n",
      "Pasos= 27 \t % exitos= 30.956\n",
      "Pasos= 28 \t % exitos= 43.012\n",
      "Pasos= 29 \t % exitos= 29.364\n",
      "Pasos= 30 \t % exitos= 40.678\n",
      "Pasos= 31 \t % exitos= 27.523999999999997\n",
      "Pasos= 32 \t % exitos= 39.18\n",
      "Pasos= 33 \t % exitos= 26.58\n",
      "Pasos= 34 \t % exitos= 36.658\n",
      "Pasos= 35 \t % exitos= 25.413999999999998\n",
      "Pasos= 36 \t % exitos= 35.524\n",
      "Pasos= 37 \t % exitos= 23.77\n",
      "Pasos= 38 \t % exitos= 33.928000000000004\n",
      "Pasos= 39 \t % exitos= 22.742\n",
      "Pasos= 40 \t % exitos= 32.6\n",
      "Pasos= 41 \t % exitos= 21.842\n",
      "Pasos= 42 \t % exitos= 31.3\n",
      "Pasos= 43 \t % exitos= 20.838\n",
      "Pasos= 44 \t % exitos= 30.194\n",
      "Pasos= 45 \t % exitos= 20.088\n",
      "Pasos= 46 \t % exitos= 29.073999999999998\n",
      "Pasos= 47 \t % exitos= 19.414\n",
      "Pasos= 48 \t % exitos= 27.695999999999998\n",
      "Pasos= 49 \t % exitos= 18.448\n",
      "Pasos= 50 \t % exitos= 27.094\n",
      "Pasos= 51 \t % exitos= 17.922\n",
      "Pasos= 52 \t % exitos= 25.714\n",
      "Pasos= 53 \t % exitos= 17.346\n",
      "Pasos= 54 \t % exitos= 25.206\n",
      "Pasos= 55 \t % exitos= 16.85\n",
      "Pasos= 56 \t % exitos= 24.654\n",
      "Pasos= 57 \t % exitos= 16.066\n",
      "Pasos= 58 \t % exitos= 24.014\n",
      "Pasos= 59 \t % exitos= 15.834000000000001\n"
     ]
    }
   ],
   "source": [
    "numero_caminatas=50000               #No de experimentos\n",
    "\n",
    "for longitud in range(1,60): #30 caminatas con longitudes desde 1 hasta 30\n",
    "    exitos=0\n",
    "    for i in range(numero_caminatas):\n",
    "        (x,y)=caminata(longitud)\n",
    "        distancia = abs(x)+abs(y)\n",
    "        if distancia <=4:\n",
    "            exitos+=1\n",
    "    porcentaje = float(exitos/numero_caminatas)\n",
    "    print(\"Pasos=\",longitud,\"\\t % exitos=\",100*porcentaje)\n",
    "#Cual es la longitud promedio en la que queda menor o igual a 4 ?"
   ]
  },
  {
   "cell_type": "code",
   "execution_count": null,
   "id": "4f1e227c",
   "metadata": {},
   "outputs": [],
   "source": []
  }
 ],
 "metadata": {
  "kernelspec": {
   "display_name": "sim2",
   "language": "python",
   "name": "sim2"
  },
  "language_info": {
   "codemirror_mode": {
    "name": "ipython",
    "version": 3
   },
   "file_extension": ".py",
   "mimetype": "text/x-python",
   "name": "python",
   "nbconvert_exporter": "python",
   "pygments_lexer": "ipython3",
   "version": "3.10.12"
  }
 },
 "nbformat": 4,
 "nbformat_minor": 5
}
