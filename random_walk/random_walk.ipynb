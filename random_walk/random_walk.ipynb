{
 "cells": [
  {
   "cell_type": "markdown",
   "id": "34607d4f",
   "metadata": {},
   "source": [
    "# Caminata aleatoria con n pasos"
   ]
  },
  {
   "cell_type": "code",
   "execution_count": 23,
   "id": "7ce519f3",
   "metadata": {},
   "outputs": [],
   "source": [
    "import matplotlib.pyplot as plt\n",
    "from PIL import Image\n",
    "\n",
    "# Cargar la imagen\n",
    "img = Image.open('')\n",
    "\n",
    "plt.imshow(img)\n",
    "plt.show()"
   ]
  },
  {
   "cell_type": "code",
   "execution_count": 52,
   "id": "9162ba6b",
   "metadata": {},
   "outputs": [],
   "source": [
    "import random\n",
    "import numpy as np\n",
    "import pandas as pd"
   ]
  },
  {
   "cell_type": "code",
   "execution_count": 74,
   "id": "d2a75049",
   "metadata": {},
   "outputs": [],
   "source": [
    "def caminata(n):\n",
    "    x=0\n",
    "    y=0\n",
    "    walk=[]\n",
    "    for i in range(n):\n",
    "        paso = random.choice(['N','S','E','O'])\n",
    "        walk.append(paso)\n",
    "        if paso=='N': y=y+1\n",
    "        elif paso=='S': y=y-1 \n",
    "        elif paso=='E': x=x+1 \n",
    "        elif paso=='O': x=x-1 \n",
    "#    print(walk)\n",
    "#    print('x:',x,'y:',y)\n",
    "    return(x,y)"
   ]
  },
  {
   "cell_type": "code",
   "execution_count": 71,
   "id": "22b38623",
   "metadata": {},
   "outputs": [],
   "source": [
    "for i in range(2):\n",
    "    d=[]\n",
    "    for j in range(31):\n",
    "        c=caminata(j)\n",
    "        d.append(abs(c[0])+abs(c[1]))\n",
    "        #print(c,\"distancia=\",abs(c[0])+abs(c[1]))\n",
    "    resul = pd.Series(d).value_counts()"
   ]
  },
  {
   "cell_type": "code",
   "execution_count": 72,
   "id": "274d4f5d",
   "metadata": {},
   "outputs": [
    {
     "data": {
      "text/plain": [
       "(array([ 1,  2,  3,  4,  5,  6,  7,  9, 11, 12]),\n",
       " array([3, 5, 5, 5, 3, 5, 1, 2, 1, 1]))"
      ]
     },
     "execution_count": 72,
     "metadata": {},
     "output_type": "execute_result"
    }
   ],
   "source": [
    "d=np.array(d)\n",
    "np.unique(d, return_counts=True)"
   ]
  },
  {
   "cell_type": "code",
   "execution_count": 76,
   "id": "d2d9c28e",
   "metadata": {},
   "outputs": [
    {
     "name": "stdout",
     "output_type": "stream",
     "text": [
      "Pasos= 1 \t % exitos= 100.0\n",
      "Pasos= 2 \t % exitos= 100.0\n",
      "Pasos= 3 \t % exitos= 100.0\n",
      "Pasos= 4 \t % exitos= 100.0\n",
      "Pasos= 5 \t % exitos= 87.804\n",
      "Pasos= 6 \t % exitos= 93.71000000000001\n",
      "Pasos= 7 \t % exitos= 76.622\n",
      "Pasos= 8 \t % exitos= 86.232\n",
      "Pasos= 9 \t % exitos= 67.202\n",
      "Pasos= 10 \t % exitos= 79.206\n",
      "Pasos= 11 \t % exitos= 60.056\n",
      "Pasos= 12 \t % exitos= 73.032\n",
      "Pasos= 13 \t % exitos= 53.815999999999995\n",
      "Pasos= 14 \t % exitos= 67.486\n",
      "Pasos= 15 \t % exitos= 48.842\n",
      "Pasos= 16 \t % exitos= 62.534\n",
      "Pasos= 17 \t % exitos= 44.42\n",
      "Pasos= 18 \t % exitos= 57.992\n",
      "Pasos= 19 \t % exitos= 40.88\n",
      "Pasos= 20 \t % exitos= 54.147999999999996\n",
      "Pasos= 21 \t % exitos= 38.022\n",
      "Pasos= 22 \t % exitos= 50.897999999999996\n",
      "Pasos= 23 \t % exitos= 35.678\n",
      "Pasos= 24 \t % exitos= 47.88\n",
      "Pasos= 25 \t % exitos= 32.962\n",
      "Pasos= 26 \t % exitos= 45.56\n",
      "Pasos= 27 \t % exitos= 31.735999999999997\n",
      "Pasos= 28 \t % exitos= 42.802\n",
      "Pasos= 29 \t % exitos= 29.24\n"
     ]
    }
   ],
   "source": [
    "numero_caminatas=50000               #No de experimentos\n",
    "\n",
    "for longitud in range(1,30): #30 caminatas con longitudes desde 1 hasta 30\n",
    "    exitos=0\n",
    "    for i in range(numero_caminatas):\n",
    "        (x,y)=caminata(longitud)\n",
    "        distancia = abs(x)+abs(y)\n",
    "        if distancia <=4:\n",
    "            exitos+=1\n",
    "    porcentaje = float(exitos/numero_caminatas)\n",
    "    print(\"Pasos=\",longitud,\"\\t % exitos=\",100*porcentaje)\n",
    "#Cual es la longitud promedio en la que queda menor o igual a 4 ?"
   ]
  },
  {
   "cell_type": "code",
   "execution_count": null,
   "id": "4be5f730",
   "metadata": {},
   "outputs": [],
   "source": []
  },
  {
   "cell_type": "markdown",
   "id": "702e9838",
   "metadata": {},
   "source": [
    "# Caminata 1D"
   ]
  },
  {
   "cell_type": "code",
   "execution_count": 78,
   "id": "491ce55e",
   "metadata": {},
   "outputs": [],
   "source": [
    "def caminata1d(n):\n",
    "    x=0\n",
    "    walk=[]\n",
    "    for i in range(n):\n",
    "        paso = random.choice(['E','O'])\n",
    "        walk.append(paso)\n",
    "        if paso=='E': x=x+1 \n",
    "        elif paso=='O': x=x-1 \n",
    "#    print(walk)\n",
    "#    print('x:',x,'y:',y)\n",
    "    return x"
   ]
  },
  {
   "cell_type": "code",
   "execution_count": 81,
   "id": "df64471d",
   "metadata": {},
   "outputs": [
    {
     "name": "stdout",
     "output_type": "stream",
     "text": [
      "Pasos= 1 \t % exitos= 100.0\n",
      "Pasos= 2 \t % exitos= 100.0\n",
      "Pasos= 3 \t % exitos= 100.0\n",
      "Pasos= 4 \t % exitos= 100.0\n",
      "Pasos= 5 \t % exitos= 93.662\n",
      "Pasos= 6 \t % exitos= 96.908\n",
      "Pasos= 7 \t % exitos= 87.62\n",
      "Pasos= 8 \t % exitos= 93.03399999999999\n",
      "Pasos= 9 \t % exitos= 81.918\n",
      "Pasos= 10 \t % exitos= 88.958\n",
      "Pasos= 11 \t % exitos= 77.196\n",
      "Pasos= 12 \t % exitos= 85.50999999999999\n",
      "Pasos= 13 \t % exitos= 73.142\n",
      "Pasos= 14 \t % exitos= 82.086\n",
      "Pasos= 15 \t % exitos= 69.652\n",
      "Pasos= 16 \t % exitos= 79.178\n",
      "Pasos= 17 \t % exitos= 67.066\n",
      "Pasos= 18 \t % exitos= 76.32\n",
      "Pasos= 19 \t % exitos= 63.712\n",
      "Pasos= 20 \t % exitos= 73.342\n",
      "Pasos= 21 \t % exitos= 61.772000000000006\n",
      "Pasos= 22 \t % exitos= 71.25399999999999\n",
      "Pasos= 23 \t % exitos= 59.19\n",
      "Pasos= 24 \t % exitos= 69.214\n",
      "Pasos= 25 \t % exitos= 57.782\n",
      "Pasos= 26 \t % exitos= 67.228\n",
      "Pasos= 27 \t % exitos= 55.948\n",
      "Pasos= 28 \t % exitos= 65.664\n",
      "Pasos= 29 \t % exitos= 54.236\n",
      "Pasos= 30 \t % exitos= 63.78\n",
      "Pasos= 31 \t % exitos= 52.556000000000004\n",
      "Pasos= 32 \t % exitos= 62.148\n",
      "Pasos= 33 \t % exitos= 51.141999999999996\n",
      "Pasos= 34 \t % exitos= 60.558\n",
      "Pasos= 35 \t % exitos= 49.71\n",
      "Pasos= 36 \t % exitos= 59.582\n",
      "Pasos= 37 \t % exitos= 48.598\n",
      "Pasos= 38 \t % exitos= 58.032\n",
      "Pasos= 39 \t % exitos= 47.708\n",
      "Pasos= 40 \t % exitos= 56.912\n",
      "Pasos= 41 \t % exitos= 46.69\n",
      "Pasos= 42 \t % exitos= 55.884\n",
      "Pasos= 43 \t % exitos= 45.769999999999996\n",
      "Pasos= 44 \t % exitos= 54.994\n",
      "Pasos= 45 \t % exitos= 45.054\n",
      "Pasos= 46 \t % exitos= 53.786\n",
      "Pasos= 47 \t % exitos= 44.05\n",
      "Pasos= 48 \t % exitos= 52.87\n",
      "Pasos= 49 \t % exitos= 43.094\n",
      "Pasos= 50 \t % exitos= 51.922000000000004\n",
      "Pasos= 51 \t % exitos= 42.262\n",
      "Pasos= 52 \t % exitos= 50.99\n",
      "Pasos= 53 \t % exitos= 41.892\n",
      "Pasos= 54 \t % exitos= 50.064\n",
      "Pasos= 55 \t % exitos= 41.086\n",
      "Pasos= 56 \t % exitos= 49.612\n",
      "Pasos= 57 \t % exitos= 40.546\n",
      "Pasos= 58 \t % exitos= 48.436\n",
      "Pasos= 59 \t % exitos= 39.568\n",
      "Pasos= 60 \t % exitos= 48.068\n",
      "Pasos= 61 \t % exitos= 39.332\n",
      "Pasos= 62 \t % exitos= 47.04\n",
      "Pasos= 63 \t % exitos= 38.794000000000004\n",
      "Pasos= 64 \t % exitos= 46.786\n",
      "Pasos= 65 \t % exitos= 38.126\n",
      "Pasos= 66 \t % exitos= 46.42\n",
      "Pasos= 67 \t % exitos= 37.138\n",
      "Pasos= 68 \t % exitos= 45.42\n",
      "Pasos= 69 \t % exitos= 36.582\n",
      "Pasos= 70 \t % exitos= 44.624\n",
      "Pasos= 71 \t % exitos= 36.192\n",
      "Pasos= 72 \t % exitos= 44.202000000000005\n",
      "Pasos= 73 \t % exitos= 35.844\n",
      "Pasos= 74 \t % exitos= 43.769999999999996\n",
      "Pasos= 75 \t % exitos= 35.726\n",
      "Pasos= 76 \t % exitos= 43.224000000000004\n",
      "Pasos= 77 \t % exitos= 35.012\n",
      "Pasos= 78 \t % exitos= 43.088\n",
      "Pasos= 79 \t % exitos= 34.74\n"
     ]
    }
   ],
   "source": [
    "numero_caminatas=50000               #No de experimentos\n",
    "\n",
    "for longitud in range(1,80): #30 caminatas con longitudes desde 1 hasta 30\n",
    "    exitos=0\n",
    "    for i in range(numero_caminatas):\n",
    "        x=caminata1d(longitud)\n",
    "        distancia = abs(x)\n",
    "        if distancia <=4:\n",
    "            exitos+=1\n",
    "    porcentaje = float(exitos/numero_caminatas)\n",
    "    print(\"Pasos=\",longitud,\"\\t % exitos=\",100*porcentaje)\n",
    "#Cual es la longitud promedio en la que queda menor o igual a 4 ?"
   ]
  },
  {
   "cell_type": "code",
   "execution_count": null,
   "id": "080f4a53",
   "metadata": {},
   "outputs": [],
   "source": []
  }
 ],
 "metadata": {
  "kernelspec": {
   "display_name": "sim2",
   "language": "python",
   "name": "sim2"
  },
  "language_info": {
   "codemirror_mode": {
    "name": "ipython",
    "version": 3
   },
   "file_extension": ".py",
   "mimetype": "text/x-python",
   "name": "python",
   "nbconvert_exporter": "python",
   "pygments_lexer": "ipython3",
   "version": "3.10.12"
  }
 },
 "nbformat": 4,
 "nbformat_minor": 5
}
