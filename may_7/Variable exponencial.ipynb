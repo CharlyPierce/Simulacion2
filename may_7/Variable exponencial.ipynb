{
 "cells": [
  {
   "cell_type": "code",
   "execution_count": 6,
   "id": "526a8a72",
   "metadata": {},
   "outputs": [],
   "source": [
    "import random as rnd\n",
    "import numpy as np\n",
    "import matplotlib.pyplot as plt"
   ]
  },
  {
   "cell_type": "markdown",
   "id": "4cd008c3",
   "metadata": {},
   "source": [
    "Teorema:\n",
    "\n",
    "Sea U una variable aleatoria uniforme en (0,1). Para cualquier funcion de distribucion continua, F,\n",
    "invertible, la variable aleatoria X definida como \n",
    "- $X =  F^{-1}(u)$\n",
    "\n",
    "tiene distribucion F."
   ]
  },
  {
   "cell_type": "markdown",
   "id": "5001a504",
   "metadata": {},
   "source": [
    "$f(x)=\\frac{1}{\\lambda}e^{-\\frac{x}{\\lambda}}$\n",
    "\n",
    "$\\int_{0}^{x}\\frac{1}{\\lambda}e^{-\\frac{x}{\\lambda}}$\n",
    "\n",
    "$F(x)=1-e^{-\\frac{x}{\\lambda}}$"
   ]
  },
  {
   "cell_type": "markdown",
   "id": "8b9a5556",
   "metadata": {},
   "source": [
    "Inversa\n",
    "\n",
    "$F(x)=1-e^{-\\frac{x}{\\lambda}}$\n",
    "\n",
    "$F(x)=U$\n",
    "\n",
    "$U=1-e^{-\\frac{x}{\\lambda}}$\n",
    "\n",
    "resolviendo para x\n",
    "\n",
    "$x=-\\lambda Ln(1-u)$\n",
    "\n",
    "Tecnicas de reduccion de varianza\n",
    "la variable 1-u tiene la misma distribucion que u, entonces:\n",
    "\n",
    "$x=-\\lambda Ln(u)$"
   ]
  },
  {
   "cell_type": "code",
   "execution_count": 7,
   "id": "3cc7a018",
   "metadata": {},
   "outputs": [],
   "source": [
    "n=10\n",
    "lamda=0.5\n",
    "L=-1/lamda"
   ]
  },
  {
   "cell_type": "code",
   "execution_count": 8,
   "id": "f9d7220f",
   "metadata": {},
   "outputs": [
    {
     "name": "stdout",
     "output_type": "stream",
     "text": [
      "0.09194309810906395\n",
      "0.4587906211880879\n",
      "0.04893149779816538\n",
      "2.4945998588693095\n",
      "4.669196890871459\n",
      "9.484807302845237\n",
      "2.3897145512994533\n",
      "2.862497910890739\n",
      "4.055976899646667\n",
      "0.5311831347438494\n"
     ]
    }
   ],
   "source": [
    "for i in range(n):\n",
    "    u=rnd.random()\n",
    "    x=L*np.log(u)\n",
    "    print(x)"
   ]
  },
  {
   "cell_type": "code",
   "execution_count": 9,
   "id": "952aaa63",
   "metadata": {},
   "outputs": [],
   "source": [
    "def expo(lamda=1,n=10):\n",
    "    L=-1/lamda\n",
    "    lista=[]\n",
    "    for i in range(n):\n",
    "        u=rnd.random()\n",
    "        x=L*np.log(u)\n",
    "        lista.append(x)\n",
    "    return lista"
   ]
  },
  {
   "cell_type": "code",
   "execution_count": 10,
   "id": "6c3273ea",
   "metadata": {},
   "outputs": [],
   "source": [
    "muestra=expo(0.5,50)"
   ]
  },
  {
   "cell_type": "code",
   "execution_count": null,
   "id": "38be8619",
   "metadata": {},
   "outputs": [],
   "source": []
  },
  {
   "cell_type": "code",
   "execution_count": 11,
   "id": "04963b3a",
   "metadata": {},
   "outputs": [],
   "source": [
    "media=np.mean(muestra)"
   ]
  },
  {
   "cell_type": "code",
   "execution_count": 12,
   "id": "c3af2714",
   "metadata": {},
   "outputs": [
    {
     "data": {
      "text/plain": [
       "4.684895767460494"
      ]
     },
     "execution_count": 12,
     "metadata": {},
     "output_type": "execute_result"
    }
   ],
   "source": [
    "np.var(muestra)"
   ]
  },
  {
   "cell_type": "code",
   "execution_count": 13,
   "id": "659af062",
   "metadata": {},
   "outputs": [
    {
     "data": {
      "text/plain": [
       "(array([18., 12.,  3.,  1.,  9.,  1.,  1.,  2.,  2.,  1.]),\n",
       " array([0.01869273, 0.84706806, 1.67544338, 2.50381871, 3.33219403,\n",
       "        4.16056936, 4.98894469, 5.81732001, 6.64569534, 7.47407066,\n",
       "        8.30244599]),\n",
       " <BarContainer object of 10 artists>)"
      ]
     },
     "execution_count": 13,
     "metadata": {},
     "output_type": "execute_result"
    },
    {
     "data": {
      "image/png": "[encoded data removed]",
      "text/plain": [
       "<Figure size 640x480 with 1 Axes>"
      ]
     },
     "metadata": {},
     "output_type": "display_data"
    }
   ],
   "source": [
    "plt.hist(muestra)"
   ]
  },
  {
   "cell_type": "code",
   "execution_count": 14,
   "id": "1bf4eb64",
   "metadata": {},
   "outputs": [],
   "source": [
    "#Para hacer la distribución acumulativa\n",
    "M=np.sort(muestra)"
   ]
  },
  {
   "cell_type": "code",
   "execution_count": 15,
   "id": "acc98ccb",
   "metadata": {},
   "outputs": [],
   "source": [
    "def cdf(muestra):\n",
    "    n=len(muestra)\n",
    "    x=np.sort(muestra)\n",
    "    y=np.arange(0,n)/n\n",
    "    return x,y"
   ]
  },
  {
   "cell_type": "code",
   "execution_count": 17,
   "id": "b2f831af",
   "metadata": {},
   "outputs": [
    {
     "name": "stdout",
     "output_type": "stream",
     "text": [
      "(array([0.01869273, 0.08039443, 0.08826215, 0.10112403, 0.16054126,\n",
      "       0.17959308, 0.25956593, 0.2702343 , 0.41607188, 0.44983391,\n",
      "       0.53944695, 0.62290101, 0.72406143, 0.74210976, 0.74286266,\n",
      "       0.79608468, 0.82690034, 0.8327977 , 0.8686856 , 0.88382863,\n",
      "       0.89264961, 0.91003085, 0.95925526, 0.97694646, 1.00310288,\n",
      "       1.08659571, 1.15312137, 1.18434829, 1.29123373, 1.38349376,\n",
      "       1.77463939, 1.9379357 , 2.01292372, 3.05272349, 3.40532219,\n",
      "       3.50280673, 3.56144015, 3.5668013 , 3.67539576, 3.68474986,\n",
      "       3.98464066, 4.05248946, 4.13763395, 4.96986606, 5.73455491,\n",
      "       6.01325195, 6.6331732 , 7.00142415, 7.02783986, 8.30244599]), array([0.  , 0.02, 0.04, 0.06, 0.08, 0.1 , 0.12, 0.14, 0.16, 0.18, 0.2 ,\n",
      "       0.22, 0.24, 0.26, 0.28, 0.3 , 0.32, 0.34, 0.36, 0.38, 0.4 , 0.42,\n",
      "       0.44, 0.46, 0.48, 0.5 , 0.52, 0.54, 0.56, 0.58, 0.6 , 0.62, 0.64,\n",
      "       0.66, 0.68, 0.7 , 0.72, 0.74, 0.76, 0.78, 0.8 , 0.82, 0.84, 0.86,\n",
      "       0.88, 0.9 , 0.92, 0.94, 0.96, 0.98]))\n"
     ]
    }
   ],
   "source": [
    "print(cdf(muestra))"
   ]
  },
  {
   "cell_type": "code",
   "execution_count": 18,
   "id": "faa272c5",
   "metadata": {},
   "outputs": [],
   "source": [
    "x_math,y_math=cdf(muestra)"
   ]
  },
  {
   "cell_type": "code",
   "execution_count": 18,
   "id": "d83a6404",
   "metadata": {},
   "outputs": [
    {
     "data": {
      "text/plain": [
       "<matplotlib.lines.Line2D at 0x2b19f5b1ac8>"
      ]
     },
     "execution_count": 18,
     "metadata": {},
     "output_type": "execute_result"
    },
    {
     "data": {
      "image/png": "[encoded data removed]",
      "text/plain": [
       "<Figure size 640x480 with 1 Axes>"
      ]
     },
     "metadata": {},
     "output_type": "display_data"
    }
   ],
   "source": [
    "plt.step(x_math,y_math)\n",
    "plt.axhline(y=0.5, color='red') #La mediana\n",
    "plt.axvline(x=media,color='green') #La media"
   ]
  },
  {
   "cell_type": "code",
   "execution_count": null,
   "id": "1e1d0af3",
   "metadata": {},
   "outputs": [],
   "source": []
  },
  {
   "cell_type": "code",
   "execution_count": null,
   "id": "35db7d36",
   "metadata": {},
   "outputs": [],
   "source": []
  },
  {
   "cell_type": "code",
   "execution_count": null,
   "id": "ccb2ff54",
   "metadata": {},
   "outputs": [],
   "source": []
  }
 ],
 "metadata": {
  "kernelspec": {
   "display_name": "sim2",
   "language": "python",
   "name": "sim2"
  },
  "language_info": {
   "codemirror_mode": {
    "name": "ipython",
    "version": 3
   },
   "file_extension": ".py",
   "mimetype": "text/x-python",
   "name": "python",
   "nbconvert_exporter": "python",
   "pygments_lexer": "ipython3",
   "version": "3.10.12"
  }
 },
 "nbformat": 4,
 "nbformat_minor": 5
}
