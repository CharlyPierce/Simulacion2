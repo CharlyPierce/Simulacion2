{
 "cells": [
  {
   "cell_type": "code",
   "execution_count": 1,
   "id": "3b3186cd",
   "metadata": {},
   "outputs": [],
   "source": [
    "import pandas as pd\n",
    "import numpy as np\n",
    "import matplotlib.pyplot as plt"
   ]
  },
  {
   "cell_type": "markdown",
   "id": "6bea5660",
   "metadata": {},
   "source": [
    "# Ejercicio:\n",
    "\n",
    "Se desea encontrar el numero de pacientes promedio en el consultorio de un doctor, para ello se realizaron observaciones cada 5 minutos y  se realizaron en la tabla:"
   ]
  },
  {
   "cell_type": "markdown",
   "id": "95bc4c29",
   "metadata": {},
   "source": [
    "| Estado Actual \\ Estado Futuro | 0   | 1   | 2   | 3   | 4   |\n",
    "|-------------------------------|-----|-----|-----|-----|-----|\n",
    "| 0                             | 3 | 5 | 2 | 0 | 0 |\n",
    "| 1                             | 8 | 7 | 0 | 1 | 4 |\n",
    "| 2                             | 5 | 5 | 5 | 5 | 5 |\n",
    "| 3                             | 5 | 0 | 10 | 0 | 0 |\n",
    "| 4                             | 1 | 0 | 0 | 0 | 1 |\n"
   ]
  },
  {
   "cell_type": "code",
   "execution_count": 12,
   "id": "7a48a1e2",
   "metadata": {},
   "outputs": [
    {
     "data": {
      "text/plain": [
       "array([[0.3       , 0.5       , 0.2       , 0.        , 0.        ],\n",
       "       [0.4       , 0.35      , 0.        , 0.05      , 0.2       ],\n",
       "       [0.2       , 0.2       , 0.2       , 0.2       , 0.2       ],\n",
       "       [0.33333333, 0.        , 0.66666667, 0.        , 0.        ],\n",
       "       [0.5       , 0.        , 0.        , 0.        , 0.5       ]])"
      ]
     },
     "execution_count": 12,
     "metadata": {},
     "output_type": "execute_result"
    }
   ],
   "source": [
    "import numpy as np\n",
    "\n",
    "data = np.array([\n",
    "    [3, 5, 2, 0, 0],\n",
    "    [8, 7, 0, 1, 4],\n",
    "    [5, 5, 5, 5, 5],\n",
    "    [5, 0, 10, 0, 0],\n",
    "    [1, 0, 0, 0, 1]\n",
    "])\n",
    "\n",
    "probabilidades_transicion = data / data.sum(axis=1, keepdims=True)\n",
    "probabilidades_transicion"
   ]
  },
  {
   "cell_type": "code",
   "execution_count": 16,
   "id": "3b7ff2c5",
   "metadata": {},
   "outputs": [],
   "source": [
    "valores_propios_u, vectores_propios_u = np.linalg.eig(probabilidades_transicion )"
   ]
  },
  {
   "cell_type": "code",
   "execution_count": 19,
   "id": "651766eb",
   "metadata": {},
   "outputs": [
    {
     "data": {
      "text/plain": [
       "array([ 1.        +0.j        , -0.15400864+0.09566897j,\n",
       "       -0.15400864-0.09566897j,  0.37108642+0.j        ,\n",
       "        0.28693086+0.j        ])"
      ]
     },
     "execution_count": 19,
     "metadata": {},
     "output_type": "execute_result"
    }
   ],
   "source": [
    "valores_propios_u"
   ]
  },
  {
   "cell_type": "code",
   "execution_count": 23,
   "id": "9608bf67",
   "metadata": {},
   "outputs": [
    {
     "data": {
      "text/plain": [
       "array([[-0.45+0.j  ,  0.35+0.25j,  0.35-0.25j, -0.11+0.j  , -0.34+0.j  ],\n",
       "       [-0.45+0.j  , -0.23-0.15j, -0.23+0.15j,  0.14+0.j  ,  0.03+0.j  ],\n",
       "       [-0.45+0.j  , -0.34-0.02j, -0.34+0.02j, -0.38+0.j  , -0.05+0.j  ],\n",
       "       [-0.45+0.j  ,  0.72+0.j  ,  0.72-0.j  , -0.79+0.j  , -0.5 +0.j  ],\n",
       "       [-0.45+0.j  , -0.23-0.22j, -0.23+0.22j,  0.44+0.j  ,  0.79+0.j  ]])"
      ]
     },
     "execution_count": 23,
     "metadata": {},
     "output_type": "execute_result"
    }
   ],
   "source": [
    "np.round(vectores_propios_u,2)"
   ]
  },
  {
   "cell_type": "code",
   "execution_count": 20,
   "id": "4e952a66",
   "metadata": {},
   "outputs": [
    {
     "data": {
      "text/plain": [
       "array([0.2, 0.2, 0.2, 0.2, 0.2])"
      ]
     },
     "execution_count": 20,
     "metadata": {},
     "output_type": "execute_result"
    }
   ],
   "source": [
    "# Identificar el índice del valor propio 1\n",
    "indice_valor_propio_1 = np.argmin(np.abs(valores_propios_u - 1))\n",
    "\n",
    "# Extraer el vector propio correspondiente y tomar solo la parte real\n",
    "vector_propio_real = np.real(vectores_propios_u[:, indice_valor_propio_1])\n",
    "\n",
    "# Normalizar el vector para que la suma de sus componentes sea 1\n",
    "vector_estacionario = vector_propio_real / np.sum(vector_propio_real)\n",
    "\n",
    "vector_estacionario\n"
   ]
  },
  {
   "cell_type": "code",
   "execution_count": null,
   "id": "6db26c2d",
   "metadata": {},
   "outputs": [],
   "source": [
    "# Recuerda que se usa para el valor propio 1 por que\n",
    "# PA = lambda * P   # Aqui usamos valores propios y vectores propios\n",
    "# PA = P  -> # Aqui se usa sistema de ecuaciones"
   ]
  },
  {
   "cell_type": "markdown",
   "id": "20c0f823",
   "metadata": {},
   "source": [
    "# SVD"
   ]
  },
  {
   "cell_type": "code",
   "execution_count": 4,
   "id": "118e5947",
   "metadata": {},
   "outputs": [],
   "source": [
    "# Cálculo de la descomposición en valores singulares (SVD)\n",
    "U, s, Vt = np.linalg.svd(probabilidades_transicion, full_matrices=True)\n",
    "\n",
    "# Creación de la matriz Sigma a partir de los valores singulares\n",
    "Sigma = np.zeros(probabilidades_transicion.shape)\n",
    "np.fill_diagonal(Sigma, s)\n",
    "\n",
    "# Redondear las matrices para mejor legibilidad\n",
    "U_rounded = np.round(U, 3)\n",
    "Sigma_rounded = np.round(Sigma, 3)\n",
    "Vt_rounded = np.round(Vt, 3)\n",
    "\n",
    "#U_rounded, Sigma_rounded, Vt_rounded"
   ]
  }
 ],
 "metadata": {
  "kernelspec": {
   "display_name": "sim2",
   "language": "python",
   "name": "sim2"
  },
  "language_info": {
   "codemirror_mode": {
    "name": "ipython",
    "version": 3
   },
   "file_extension": ".py",
   "mimetype": "text/x-python",
   "name": "python",
   "nbconvert_exporter": "python",
   "pygments_lexer": "ipython3",
   "version": "3.10.12"
  }
 },
 "nbformat": 4,
 "nbformat_minor": 5
}
