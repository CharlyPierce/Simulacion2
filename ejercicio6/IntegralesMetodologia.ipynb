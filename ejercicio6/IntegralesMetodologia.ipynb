{
 "cells": [
  {
   "cell_type": "markdown",
   "id": "a5cc0a87",
   "metadata": {},
   "source": [
    "# Metodología de la Simulación\n",
    "# El metodo nos da una muestra"
   ]
  },
  {
   "cell_type": "code",
   "execution_count": null,
   "id": "bac74218",
   "metadata": {},
   "outputs": [],
   "source": [
    "import matplotlib.pyplot as plt\n",
    "from PIL import Image\n",
    "\n",
    "imagen = Image.open('1.png')\n",
    "plt.imshow(imagen)\n",
    "plt.axis('off')  # Esto es lo que oculta los ejes\n",
    "plt.show()"
   ]
  },
  {
   "cell_type": "markdown",
   "id": "2df16f07",
   "metadata": {},
   "source": [
    "$\n",
    "\\int_{0}^{1} f(x) dx\n",
    "$\n",
    "\n",
    "$\n",
    "\\hat{\\theta} = \\frac{1}{n} \\sum_{i=1}^nf(u_i)\n",
    "$\n",
    "\n",
    "$\n",
    "Donde\n",
    "U_i ~ U(0,1)\n",
    "$"
   ]
  },
  {
   "cell_type": "markdown",
   "id": "0e218d98",
   "metadata": {},
   "source": [
    "### 1. Identifique las variables \n",
    "\n",
    "Aquellas cuyo comportamiento define el comportamiento o la evoución global del sistema real."
   ]
  },
  {
   "cell_type": "code",
   "execution_count": 23,
   "id": "d393f4d5",
   "metadata": {},
   "outputs": [],
   "source": [
    "# Identifique las variables: En nuestro caso, la variable es \n",
    "# x, que se encuentra en el intervalo [0,1].\n",
    "# Determine la distribución de probabilidad: Dado que estamos evaluando la integral en el rango [0,1], usaremos una distribución uniforme para \n",
    "# x en ese intervalo, es decir x∼U(0,1)."
   ]
  },
  {
   "cell_type": "markdown",
   "id": "3ebcd0f2",
   "metadata": {},
   "source": [
    "### 2. Determine la distribución de probabilidad\n",
    "\n",
    "Elija el tipo de distribución de probabilidad que mejor defina el comportamiento aleatorio de cada una de las variables del sistema identificadas en el paso anterior."
   ]
  },
  {
   "cell_type": "code",
   "execution_count": null,
   "id": "62034b39",
   "metadata": {},
   "outputs": [],
   "source": [
    "# Modele las variables aleatorias: Generaremos valores aleatorios de \n",
    "# x que sigan una distribución uniforme en el intervalo [0,1]."
   ]
  },
  {
   "cell_type": "markdown",
   "id": "803801d5",
   "metadata": {},
   "source": [
    "### 3. Modele las variables aleatorias \n",
    "\n",
    "Cosntruya un modelo fiel de la aleatoriedad de las variables del sistema. Simular el comportamiento del sistema implica generar muestras aleatorias de cada variable que sigan fielmente la distribución de probabilidad correspondiente."
   ]
  },
  {
   "cell_type": "markdown",
   "id": "e15c2f95",
   "metadata": {},
   "source": [
    "$\n",
    "\\int_{0}^{1} \\frac{e^{x}-1}{e-1} \\, dx\n",
    "$"
   ]
  },
  {
   "cell_type": "markdown",
   "id": "00ab00f3",
   "metadata": {},
   "source": [
    "Para resolver la integral definida de 0 a 1 de la función $\\frac{(e^x - 1)} { (e - 1)}$, seguimos los siguientes pasos:\n",
    "\n",
    "1. Identificar la función a integrar:\n",
    "   \n",
    "   La función a integrar es $\\frac{e^x - 1}{e - 1}$.\n",
    "\n",
    "2. Calcular la integral indefinida:\n",
    "\n",
    "   La integral indefinida de $\\frac{e^x - 1}{e - 1} es \\frac{1}{e - 1} \\int (e^x - 1) dx$.\n",
    "\n",
    "   Esto se simplifica al calcular la integral de cada término por separado:\n",
    "   $$\n",
    "   \\frac{1}{e - 1} \\left( \\int e^x dx - \\int 1 dx \\right) = \\frac{1}{e - 1} (e^x - x)\n",
    "   $$\n",
    "\n",
    "3. Evaluar la integral definida desde 0 a 1:\n",
    "\n",
    "   Sustituimos los límites de integración en la función obtenida:\n",
    "   $$\n",
    "   \\frac{1}{e - 1} [(e^1 - 1) - (e^0 - 0)] = \\frac{1}{e - 1} [e - 1]\n",
    "   $$\n",
    "\n",
    "4. Simplificar el resultado:\n",
    "\n",
    "   Al simplificar, obtenemos:\n",
    "   $$\n",
    "   1 - \\frac{1}{e - 1}\n",
    "   $$\n",
    "\n",
    "   Lo que da como resultado aproximadamente \\(0.418023\\) al evaluar con los valores numéricos.\n",
    "\n",
    "Por lo tanto, la integral definida de 0 a 1 de $\\frac{e^x - 1}{e - 1}$ es aproximadamente $0.418023$.\n"
   ]
  },
  {
   "cell_type": "code",
   "execution_count": 29,
   "id": "5430c43c",
   "metadata": {},
   "outputs": [
    {
     "data": {
      "text/plain": [
       "0.4183868727297342"
      ]
     },
     "execution_count": 29,
     "metadata": {},
     "output_type": "execute_result"
    }
   ],
   "source": [
    "import random\n",
    "import math\n",
    "import numpy as np\n",
    "import matplotlib.pyplot as plt\n",
    "\n",
    "# Número de puntos para simular\n",
    "N = 999  # Mejorar la precisión\n",
    "suma = []\n",
    "\n",
    "# Generar puntos aleatorios y evaluar la función\n",
    "for _ in range(N):\n",
    "    x = random.uniform(0, 1)\n",
    "    suma.append( ((math.exp(x))-1)/(math.e-1) )\n",
    "\n",
    "sum(suma)/N"
   ]
  },
  {
   "cell_type": "code",
   "execution_count": 30,
   "id": "6d40dd82",
   "metadata": {},
   "outputs": [],
   "source": [
    "promedios_acumulativos = np.cumsum(suma)/np.arange(1,N+1)"
   ]
  },
  {
   "cell_type": "code",
   "execution_count": 31,
   "id": "c461e2d5",
   "metadata": {},
   "outputs": [
    {
     "data": {
      "image/png": "[encoded data removed]",
      "text/plain": [
       "<Figure size 1000x600 with 1 Axes>"
      ]
     },
     "metadata": {},
     "output_type": "display_data"
    }
   ],
   "source": [
    "plt.figure(figsize=[10,6])\n",
    "plt.plot(promedios_acumulativos, color='blue', linewidth=2)\n",
    "\n",
    "plt.axhline(y=0.4180, color='r', linestyle='--')  # Horizontal line\n",
    "plt.axvline(x=100, color='g', linestyle='--')  # Vertical line\n",
    "\n",
    "\n",
    "plt.title('Convergencia del Promedio en la Simulación')\n",
    "plt.xlabel('Número de Simulaciones')\n",
    "plt.ylabel('Valor Promedio')\n",
    "plt.grid(True)\n",
    "plt.show()"
   ]
  },
  {
   "cell_type": "markdown",
   "id": "33709223",
   "metadata": {},
   "source": [
    "### 4. Defina el modelo del sistema y los objetivos de la simulación \n",
    "\n",
    "Fije los objetivos y diseñe un modelo del sistema real que abstraiga sus propiedades más relevantes. Todo error en el modelo (o su implementación computacional) puede dar lugar a conclusiones equivocadas. \n",
    "\n",
    "Antes de experimentar con el modelo, asegurarse de que refleja fielmente el sistema real **validando** el mismo a partir de datos reales, para ello compare los resultados obtenidos de la simulación con los producidos por el sistema."
   ]
  },
  {
   "cell_type": "markdown",
   "id": "7f853065",
   "metadata": {},
   "source": [
    "### 5. Diseñe el experimento\n",
    "\n",
    "Diseñe un experimento así como las ejecuciones concretas del mismo, los escenarios que desea estudiar para alcanzar los objetivos fijados. El experimento consiste en generar valores de las variables cuyo comportamiento define el comportamiento del sistema y analizar este ante dichos valores."
   ]
  },
  {
   "cell_type": "markdown",
   "id": "15ae61c8",
   "metadata": {},
   "source": [
    "### 6. Repita el experimento $n$ veces \n",
    "\n",
    "Así dispondrá de $n$ observaciones sobre el comportamiento del sistema, lo que permitirá entender su funcionamiento así como evaluar el desempeño del mismo frente a los diversos escenarios establecidos.\n",
    "\n",
    "El **método Monte Carlo** se basa en la **Ley Fuerte de los Grandes Números** y el **Teorema del Límite Central**."
   ]
  },
  {
   "cell_type": "markdown",
   "id": "56ff4a78",
   "metadata": {},
   "source": [
    "# Comparación de Algoritmos usando el Método de Error Estándar\n",
    "\n",
    "Se tiene que la desviación estándar de los tiempos de ejecución se relaciona con el tamaño de la muestra por la relación:\n",
    "\n",
    "$$\n",
    "\\sigma = \\frac{k}{\\sqrt{n}}\n",
    "$$\n",
    "\n",
    "Donde:\n",
    "- $\\sigma$ es la desviación estándar de los tiempos de ejecución del algoritmo.\n",
    "- $k$ es una constante que queremos determinar.\n",
    "- $n$ es el tamaño de la muestra de los tiempos de ejecución.\n",
    "\n",
    "## Datos para Algoritmos A y B:\n",
    "\n",
    "- Algoritmo A: $\\sigma_1 = 5$ ms, $n_1 = 100$ muestras.\n",
    "- Algoritmo B: $\\sigma_2 = 7$ ms, $n_2 = 150$ muestras.\n",
    "\n",
    "## Despeje de la constante $k$:\n",
    "\n",
    "Para el Algoritmo A:\n",
    "$$\n",
    "k_1 = \\sigma_1 \\times \\sqrt{n_1} = 5 \\times \\sqrt{100} = 5 \\times 10 = 50\n",
    "$$\n",
    "\n",
    "Para el Algoritmo B:\n",
    "$$\n",
    "k_2 = \\sigma_2 \\times \\sqrt{n_2} = 7 \\times \\sqrt{150} \\approx 7 \\times 12.25 \\approx 85.75\n",
    "$$\n",
    "\n",
    "## Comparación:\n",
    "\n",
    "- Si $k_1 < k_2$, entonces el Algoritmo A tiene una varianza ajustada por tamaño de muestra menor que el Algoritmo B, indicando potencialmente una mayor consistencia en los tiempos de ejecución o una mejor performance ajustada por el tamaño de la muestra.\n",
    "\n",
    "En este caso, dado que $50 < 85.754, podríamos concluir que el Algoritmo A muestra una mayor consistencia relativa en los tiempos de ejecución en comparación con el Algoritmo B, bajo la suposición de que la única diferencia en la variabilidad de los tiempos de ejecución se debe al tamaño de la muestra.\n"
   ]
  },
  {
   "cell_type": "markdown",
   "id": "831f8670",
   "metadata": {},
   "source": [
    "# Fin"
   ]
  }
 ],
 "metadata": {
  "kernelspec": {
   "display_name": "env2",
   "language": "python",
   "name": "env2"
  },
  "language_info": {
   "codemirror_mode": {
    "name": "ipython",
    "version": 3
   },
   "file_extension": ".py",
   "mimetype": "text/x-python",
   "name": "python",
   "nbconvert_exporter": "python",
   "pygments_lexer": "ipython3",
   "version": "3.10.12"
  }
 },
 "nbformat": 4,
 "nbformat_minor": 5
}
