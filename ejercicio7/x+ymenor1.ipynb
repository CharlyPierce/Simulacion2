{
 "cells": [
  {
   "cell_type": "markdown",
   "id": "0f42551c",
   "metadata": {},
   "source": [
    "# Se  toman aleatoriamente 2 numeros no negativos X e Y menores o iguales que uno. Hallar la probabilidad de que la suma x+y no sea >1 y su producto xy no sea mayor que 2/q."
   ]
  },
  {
   "cell_type": "code",
   "execution_count": 2,
   "id": "a1b9a372",
   "metadata": {},
   "outputs": [],
   "source": [
    "import matplotlib.pyplot as plt\n",
    "import pandas as pd\n",
    "import numpy as np"
   ]
  },
  {
   "cell_type": "code",
   "execution_count": 5,
   "id": "414894cf",
   "metadata": {},
   "outputs": [
    {
     "data": {
      "text/plain": [
       "0.46956"
      ]
     },
     "execution_count": 5,
     "metadata": {},
     "output_type": "execute_result"
    }
   ],
   "source": [
    "import numpy as np\n",
    "\n",
    "# Parámetros de la simulación\n",
    "q_value = 10  \n",
    "num_samples = 1000000  # Número de muestras para la simulación\n",
    "\n",
    "# Generar pares aleatorios (X, Y)\n",
    "X = np.random.uniform(0, 1, num_samples)\n",
    "Y = np.random.uniform(0, 1, num_samples)\n",
    "\n",
    "# Contar cuántos pares satisfacen ambas condiciones\n",
    "condition_sum = (X + Y) <= 1\n",
    "condition_product = (X * Y) <= (2 / q_value)\n",
    "successful_pairs = np.logical_and(condition_sum, condition_product)\n",
    "\n",
    "# Calcular la probabilidad estimada\n",
    "probability_estimate = np.sum(successful_pairs) / num_samples\n",
    "probability_estimate\n"
   ]
  },
  {
   "cell_type": "code",
   "execution_count": null,
   "id": "a2b71773",
   "metadata": {},
   "outputs": [],
   "source": []
  },
  {
   "cell_type": "code",
   "execution_count": null,
   "id": "0c7ab32f",
   "metadata": {},
   "outputs": [],
   "source": []
  },
  {
   "cell_type": "code",
   "execution_count": null,
   "id": "3709f98a",
   "metadata": {},
   "outputs": [],
   "source": []
  }
 ],
 "metadata": {
  "kernelspec": {
   "display_name": "sim2",
   "language": "python",
   "name": "sim2"
  },
  "language_info": {
   "codemirror_mode": {
    "name": "ipython",
    "version": 3
   },
   "file_extension": ".py",
   "mimetype": "text/x-python",
   "name": "python",
   "nbconvert_exporter": "python",
   "pygments_lexer": "ipython3",
   "version": "3.10.12"
  }
 },
 "nbformat": 4,
 "nbformat_minor": 5
}
