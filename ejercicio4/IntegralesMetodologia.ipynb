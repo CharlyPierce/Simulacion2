{
 "cells": [
  {
   "cell_type": "markdown",
   "id": "a5cc0a87",
   "metadata": {},
   "source": [
    "# Metodología de la Simulación"
   ]
  },
  {
   "cell_type": "code",
   "execution_count": 1,
   "id": "f71eb21b",
   "metadata": {},
   "outputs": [
    {
     "name": "stdout",
     "output_type": "stream",
     "text": [
      "inicio\n"
     ]
    }
   ],
   "source": [
    "print(\"inicio\")"
   ]
  },
  {
   "cell_type": "markdown",
   "id": "2df16f07",
   "metadata": {},
   "source": [
    "$\n",
    "\\int_{0}^{1} e^{e^x} \\, dx\n",
    "$"
   ]
  },
  {
   "cell_type": "markdown",
   "id": "3c7e7794",
   "metadata": {},
   "source": [
    "$\n",
    "\\int_{0}^{\\infty} \\frac{x}{(1+x^2)^2} \\, dx\n",
    "$"
   ]
  },
  {
   "cell_type": "markdown",
   "id": "0e218d98",
   "metadata": {},
   "source": [
    "### 1. Identifique las variables \n",
    "\n",
    "Aquellas cuyo comportamiento define el comportamiento o la evoución global del sistema real."
   ]
  },
  {
   "cell_type": "code",
   "execution_count": null,
   "id": "d393f4d5",
   "metadata": {},
   "outputs": [],
   "source": [
    "# Identifique las variables: En nuestro caso, la variable es \n",
    "# x, que se encuentra en el intervalo [0,1].\n",
    "# Determine la distribución de probabilidad: Dado que estamos evaluando la integral en el rango [0,1], usaremos una distribución uniforme para \n",
    "# x en ese intervalo, es decir x∼U(0,1)."
   ]
  },
  {
   "cell_type": "markdown",
   "id": "3ebcd0f2",
   "metadata": {},
   "source": [
    "### 2. Determine la distribución de probabilidad\n",
    "\n",
    "Elija el tipo de distribución de probabilidad que mejor defina el comportamiento aleatorio de cada una de las variables del sistema identificadas en el paso anterior."
   ]
  },
  {
   "cell_type": "code",
   "execution_count": null,
   "id": "62034b39",
   "metadata": {},
   "outputs": [],
   "source": [
    "# Modele las variables aleatorias: Generaremos valores aleatorios de \n",
    "# x que sigan una distribución uniforme en el intervalo [0,1]."
   ]
  },
  {
   "cell_type": "markdown",
   "id": "803801d5",
   "metadata": {},
   "source": [
    "### 3. Modele las variables aleatorias \n",
    "\n",
    "Cosntruya un modelo fiel de la aleatoriedad de las variables del sistema. Simular el comportamiento del sistema implica generar muestras aleatorias de cada variable que sigan fielmente la distribución de probabilidad correspondiente."
   ]
  },
  {
   "cell_type": "code",
   "execution_count": 4,
   "id": "5430c43c",
   "metadata": {},
   "outputs": [],
   "source": [
    "import random\n",
    "import math\n",
    "\n",
    "# Número de puntos para simular\n",
    "N = 1000000  # Mejorar la precisión\n",
    "suma = 0\n",
    "\n",
    "# Generar puntos aleatorios y evaluar la función\n",
    "for _ in range(N):\n",
    "    x = random.uniform(0, 1)\n",
    "    suma += math.exp(math.exp(x))\n",
    "    \n",
    "#6.3165"
   ]
  },
  {
   "cell_type": "code",
   "execution_count": 5,
   "id": "c461e2d5",
   "metadata": {},
   "outputs": [
    {
     "data": {
      "text/plain": [
       "6.316318650406355"
      ]
     },
     "execution_count": 5,
     "metadata": {},
     "output_type": "execute_result"
    }
   ],
   "source": [
    "suma/N"
   ]
  },
  {
   "cell_type": "markdown",
   "id": "33709223",
   "metadata": {},
   "source": [
    "### 4. Defina el modelo del sistema y los objetivos de la simulación \n",
    "\n",
    "Fije los objetivos y diseñe un modelo del sistema real que abstraiga sus propiedades más relevantes. Todo error en el modelo (o su implementación computacional) puede dar lugar a conclusiones equivocadas. \n",
    "\n",
    "Antes de experimentar con el modelo, asegurarse de que refleja fielmente el sistema real **validando** el mismo a partir de datos reales, para ello compare los resultados obtenidos de la simulación con los producidos por el sistema."
   ]
  },
  {
   "cell_type": "markdown",
   "id": "7f853065",
   "metadata": {},
   "source": [
    "### 5. Diseñe el experimento\n",
    "\n",
    "Diseñe un experimento así como las ejecuciones concretas del mismo, los escenarios que desea estudiar para alcanzar los objetivos fijados. El experimento consiste en generar valores de las variables cuyo comportamiento define el comportamiento del sistema y analizar este ante dichos valores."
   ]
  },
  {
   "cell_type": "markdown",
   "id": "15ae61c8",
   "metadata": {},
   "source": [
    "### 6. Repita el experimento $n$ veces \n",
    "\n",
    "Así dispondrá de $n$ observaciones sobre el comportamiento del sistema, lo que permitirá entender su funcionamiento así como evaluar el desempeño del mismo frente a los diversos escenarios establecidos.\n",
    "\n",
    "El **método Monte Carlo** se basa en la **Ley Fuerte de los Grandes Números** y el **Teorema del Límite Central**."
   ]
  },
  {
   "cell_type": "markdown",
   "id": "6f1b4105",
   "metadata": {},
   "source": [
    "Analiticamente:"
   ]
  },
  {
   "cell_type": "code",
   "execution_count": 8,
   "id": "37c5f31c",
   "metadata": {},
   "outputs": [],
   "source": [
    "# Número de simulaciones\n",
    "n_simulaciones = 10000\n",
    "contador_dos_caras = 0"
   ]
  },
  {
   "cell_type": "markdown",
   "id": "55abbdf9",
   "metadata": {},
   "source": [
    "$\\int_0^\\inf x(1+x^2)^{-2}dx$\n",
    "\n",
    "$u=x^2$\n",
    "\n",
    "$u=(0)^2=0$\n",
    "\n",
    "$u=(\\inf)^2=\\inf$\n",
    "\n",
    "$du=2x$\n",
    "\n",
    "$\\frac{1}{2}\\int_0^\\inf (1+u)^{-2}du$"
   ]
  },
  {
   "cell_type": "markdown",
   "id": "a5c3b5a4",
   "metadata": {},
   "source": [
    "$w = \\frac{1}{1+u}$\n",
    "\n",
    "$w = \\frac{1}{1+0}=1$\n",
    "\n",
    "$w = \\frac{1}{1+\\inf}=0$"
   ]
  },
  {
   "cell_type": "markdown",
   "id": "ab5cbca8",
   "metadata": {},
   "source": [
    "$dw = - \\frac{1}{(u+1)^2}$"
   ]
  },
  {
   "cell_type": "markdown",
   "id": "312ef250",
   "metadata": {},
   "source": [
    "$\\frac{1}{2}\\int_0^1dw$"
   ]
  },
  {
   "cell_type": "markdown",
   "id": "137bebeb",
   "metadata": {},
   "source": [
    "# Cambios de Variable en la Integral\n",
    "\n",
    "Dada la integral:\n",
    "\n",
    "$$\\int_0^\\infty x(1 + x^2)^{-2}dx$$\n",
    "\n",
    "Realizamos el primer cambio de variable:\n",
    "\n",
    "## Primer Cambio de Variable\n",
    "\n",
    "Sea $u = x^2$, entonces $du = 2x dx$, lo que implica $dx = \\frac{du}{2x}$. Además, cuando $x = 0$, $u = 0$; y cuando $x = \\infty$, $u = \\infty$.\n",
    "\n",
    "La integral se convierte en:\n",
    "\n",
    "$$\\frac{1}{2} \\int_0^\\infty (1 + u)^{-2}du$$\n",
    "\n",
    "Ahora, aplicamos el segundo cambio de variable:\n",
    "\n",
    "## Segundo Cambio de Variable\n",
    "\n",
    "Sea $w = \\frac{1}{1 + u}$, esto implica $1 + u = \\frac{1}{w}$ y $u = \\frac{1}{w} - 1$. \n",
    "\n",
    "Entonces, diferenciando $u$ respecto a $w$, obtenemos $du = -\\frac{1}{w^2}dw$.\n",
    "\n",
    "En términos de los límites de integración, cuando $u = 0$, $w = \\frac{1}{1 + 0} = 1$; y cuando $u = \\infty$, $w = \\frac{1}{1 + \\infty} = 0$.\n",
    "\n",
    "La integral en términos de $w$ es:\n",
    "\n",
    "$$\\frac{1}{2} \\int_1^0 (-\\frac{1}{w^2})(w^2)^{-1}dw = -\\frac{1}{2} \\int_1^0 dw$$\n",
    "\n",
    "Cambiando los límites de integración para evitar una integral negativa, obtenemos:\n",
    "\n",
    "$$\\frac{1}{2} \\int_0^1 dw$$\n",
    "\n",
    "Esta es la integral final después de aplicar los dos cambios de variable. La resolución de esta integral nos dará el resultado final de la integral original.\n"
   ]
  },
  {
   "cell_type": "markdown",
   "id": "869a63e7",
   "metadata": {},
   "source": [
    "# Cambios de Variable en la Integral\n",
    "\n",
    "Dada la integral inicial:\n",
    "\n",
    "$$\\int_0^\\infty x(1 + x^2)^{-2}dx$$\n",
    "\n",
    "Realizamos el primer cambio de variable:\n",
    "\n",
    "## Primer Cambio de Variable\n",
    "\n",
    "Sea \\(u = x^2\\), entonces \\(du = 2x dx\\), lo que implica \\(dx = \\frac{du}{2x}\\). Además, cuando \\(x = 0\\), \\(u = 0\\); y cuando \\(x = \\infty\\), \\(u = \\infty\\).\n",
    "\n",
    "La integral se convierte en:\n",
    "\n",
    "$$\\frac{1}{2} \\int_0^\\infty (1 + u)^{-2}du$$\n",
    "\n",
    "Ahora, aplicamos el segundo cambio de variable:\n",
    "\n",
    "## Segundo Cambio de Variable\n",
    "\n",
    "Sea \\(w = \\frac{1}{1 + u}\\), esto implica \\(1 + u = \\frac{1}{w}\\) y \\(u = \\frac{1}{w} - 1\\). \n",
    "\n",
    "Entonces, diferenciando \\(u\\) respecto a \\(w\\), obtenemos \\(du = -\\frac{1}{w^2}dw\\).\n",
    "\n",
    "En términos de los límites de integración, cuando \\(u = 0\\), \\(w = 1\\); y cuando \\(u = \\infty\\), \\(w = 0\\).\n",
    "\n",
    "La integral en términos de \\(w\\) es:\n",
    "\n",
    "$$-\\frac{1}{2} \\int_{1}^{0} w^{-2} (-\\frac{1}{w^2})dw = -\\frac{1}{2} \\int_{1}^{0} (-1)dw = \\frac{1}{2} \\int_{1}^{0} dw$$\n",
    "\n",
    "Dado que usualmente preferimos que los límites inferiores de integración sean menores que los superiores, invertimos los límites de integración para obtener:\n",
    "\n",
    "$$\\frac{1}{2} \\int_{0}^{1} dw$$\n",
    "\n",
    "## Función Final\n",
    "\n",
    "La función final después de aplicar ambos cambios de variable, y con la cual trabajaremos, es entonces:\n",
    "\n",
    "$$\\frac{1}{2} \\int_{0}^{1} dw$$\n",
    "\n",
    "Esta integral representa el resultado final luego de los cambios de variable aplicados a la integral original.\n"
   ]
  },
  {
   "cell_type": "markdown",
   "id": "7727ba92",
   "metadata": {},
   "source": [
    "# Cambios de Variable en la Integral\n",
    "\n",
    "Dada la integral inicial:\n",
    "\n",
    "$$\\int_0^\\infty x(1 + x^2)^{-2}dx$$\n",
    "\n",
    "Realizamos el primer cambio de variable:\n",
    "\n",
    "## Primer Cambio de Variable\n",
    "\n",
    "Sea $\\(u = x^2\\)$, entonces $\\(du = 2x dx\\)$, lo que implica $\\(dx = \\frac{du}{2x}\\)$. Además, cuando $\\(x = 0\\)$, $\\(u = 0\\)$; y cuando $\\(x = \\infty\\)$, $\\(u = \\infty\\)$.\n",
    "\n",
    "La integral se convierte en:\n",
    "\n",
    "$$\\frac{1}{2} \\int_0^\\infty (1 + u)^{-2}du$$\n",
    "\n",
    "Ahora, aplicamos el segundo cambio de variable:\n",
    "\n",
    "## Segundo Cambio de Variable\n",
    "\n",
    "Sea \\(w = \\frac{1}{1 + u}\\), esto implica \\(1 + u = \\frac{1}{w}\\) y \\(u = \\frac{1}{w} - 1\\). \n",
    "\n",
    "Entonces, diferenciando \\(u\\) respecto a \\(w\\), obtenemos \\(du = -\\frac{1}{w^2}dw\\).\n",
    "\n",
    "En términos de los límites de integración, cuando \\(u = 0\\), \\(w = 1\\); y cuando \\(u = \\infty\\), \\(w = 0\\).\n",
    "\n",
    "Incorporando estas sustituciones, la integral en términos de \\(w\\) es:\n",
    "\n",
    "$$-\\frac{1}{2} \\int_{1}^{0} (w^2) \\left(-\\frac{1}{w^2}\\right)dw = -\\frac{1}{2} \\int_{1}^{0} (-1) dw = \\frac{1}{2} \\int_{1}^{0} dw$$\n",
    "\n",
    "Si aquí hubo una confusión y debería ser \\(w^{-4}\\) debido a un malentendido en la sustitución, corrijamos conforme a la dinámica correcta del cambio. Sin embargo, basándonos en la sustitución directa sin errores adicionales, esta sería la forma estándar. \n",
    "\n",
    "Pero según tu punto, si consideramos un malentendido en la transformación, la sustitución real debería reflejar cómo \\( (1+u)^{-2} \\) se transforma específicamente bajo nuestro cambio, pero esto se aplicaría si hubiese un error inicial. Dada tu aclaración, parecería que hay un error en la conversión pero permíteme asegurar: la sustitución directa de \\( (1+u)^{-2} \\) en la transformación no derivaría directamente a \\( w^{-4} \\) a menos que hubiera un malentendido en las operaciones intermedias.\n",
    "\n",
    "No obstante, basado en lo que hemos discutido, el proceso seguido y la explicación dada no introducen directamente \\( w^{-4} \\) desde \\( (1+u)^{-2} \\); parece haber una confusión en la interpretación.\n",
    "\n",
    "Si hay un error conceptual o un paso específico que consideras incorrecto, por favor indícamelo para corregirlo adecuadamente. Pero según los cambios y la matemática convencional aplicada aquí, el resultado de la sustitución en la integral no lleva inmediatamente a \\( w^{-4} \\) a menos que se refiera a una etapa diferente o un aspecto no abordado aquí correctamente.\n"
   ]
  },
  {
   "cell_type": "markdown",
   "id": "4d3899f3",
   "metadata": {},
   "source": [
    "**PASO 2**. Formule la distribución de probabilidad de cada variable."
   ]
  },
  {
   "cell_type": "code",
   "execution_count": 12,
   "id": "e1e65e40",
   "metadata": {},
   "outputs": [
    {
     "name": "stdout",
     "output_type": "stream",
     "text": [
      "Probabilidad simulada de obtener dos caras en tres lanzamientos: 0.7521\n",
      " 0.2479\n"
     ]
    }
   ],
   "source": [
    "import random\n",
    "\n",
    "for _ in range(n_simulaciones):\n",
    "    lanzamientos = [random.choice(['C', 'X']) for _ in range(3)]\n",
    "    if lanzamientos.count('C') == 2:\n",
    "        contador_dos_caras += 1\n",
    "\n",
    "probabilidad_simulada = contador_dos_caras / n_simulaciones\n",
    "print(f\"Probabilidad simulada de obtener dos caras en tres lanzamientos: {probabilidad_simulada}\")\n",
    "print(f\" {1-probabilidad_simulada}\")\n"
   ]
  },
  {
   "cell_type": "markdown",
   "id": "831f8670",
   "metadata": {},
   "source": [
    "# Fin"
   ]
  }
 ],
 "metadata": {
  "kernelspec": {
   "display_name": "sim2",
   "language": "python",
   "name": "sim2"
  },
  "language_info": {
   "codemirror_mode": {
    "name": "ipython",
    "version": 3
   },
   "file_extension": ".py",
   "mimetype": "text/x-python",
   "name": "python",
   "nbconvert_exporter": "python",
   "pygments_lexer": "ipython3",
   "version": "3.10.12"
  }
 },
 "nbformat": 4,
 "nbformat_minor": 5
}
