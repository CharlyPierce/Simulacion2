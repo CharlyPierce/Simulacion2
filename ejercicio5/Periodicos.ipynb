{
 "cells": [
  {
   "cell_type": "markdown",
   "id": "0ad4991a",
   "metadata": {},
   "source": [
    "Un comerciante vende periodicos a 11 pesos cada uno, Cada periodico le cuesta al comerciante 9 pesos.\n",
    "\n",
    "Las ventas del comerciante se reflejan en la tabla siguiente."
   ]
  },
  {
   "cell_type": "markdown",
   "id": "91cd94c1",
   "metadata": {},
   "source": [
    "| Periodicos   | 30    | 40    | 50    | 60    | 70    |\n",
    "|--------------|-------|-------|-------|-------|-------|\n",
    "| f(x)         | 20%   | 25%   | 25%   | 20%   | 10%   |\n",
    "| F(x)         | 0.20  | 0.45  | 0.70  | 0.90  | 1.00  |\n",
    "| Intervalos   | (0.0-0.19) | (0.20-0.44) | (0.45-0.69) | (0.70-0.89) | (0.90-1.00)|\n"
   ]
  },
  {
   "cell_type": "markdown",
   "id": "3e0578cb",
   "metadata": {},
   "source": [
    "Teniendo en cuenta un costo de 2 pesos por venta perdida, y un costo de 1 peso por el reciclaje de cada periodico no  vendidido,\n",
    "determine el beneficio promedio diario, si pide 50 periodicos cada dia"
   ]
  },
  {
   "cell_type": "markdown",
   "id": "348e83a3",
   "metadata": {},
   "source": [
    "Intervalos conversion al valor de la variable aletoria"
   ]
  },
  {
   "cell_type": "code",
   "execution_count": 9,
   "id": "0231d587",
   "metadata": {},
   "outputs": [
    {
     "data": {
      "text/plain": [
       "0.560902147328216"
      ]
     },
     "execution_count": 9,
     "metadata": {},
     "output_type": "execute_result"
    }
   ],
   "source": [
    "import numpy as np"
   ]
  },
  {
   "cell_type": "code",
   "execution_count": null,
   "id": "f05b453c",
   "metadata": {},
   "outputs": [],
   "source": [
    "def clasificar_valor(valor):\n",
    "    # Definimos los intervalos y sus correspondientes valores.\n",
    "    intervalos = [(0.0, 0.19), (0.20, 0.44), (0.45, 0.69), (0.70, 0.89), (0.90, 1.00)]\n",
    "    valores = [30, 40, 50, 60, 70]\n",
    "    \n",
    "    # Chequeamos si el valor está fuera de los límites esperados.\n",
    "    if valor < 0:\n",
    "        return None  # O el valor más bajo si prefieres.\n",
    "    elif valor > 1:\n",
    "        return None  # O el valor más alto si prefieres.\n",
    "\n",
    "    # Iteramos sobre los intervalos y valores al mismo tiempo.\n",
    "    for i, (intervalo, valor_retorno) in enumerate(zip(intervalos, valores)):\n",
    "        # Chequeamos si el valor está dentro del intervalo.\n",
    "        if intervalo[0] <= valor <= intervalo[1]:\n",
    "            return valor_retorno\n",
    "        # Si el valor está en el límite entre dos intervalos, devolver el valor superior.\n",
    "        elif i > 0 and valor == intervalo[0]:\n",
    "            return valores[i]\n",
    "\n",
    "    # En caso de que el valor sea exactamente 1, que es el límite superior del último intervalo.\n",
    "    if valor == 1:\n",
    "        return 70  # O el valor correspondiente al último intervalo.\n",
    "\n",
    "    # En caso de que no se cumpla ninguna de las condiciones anteriores (por seguridad, pero no debería ocurrir):\n",
    "    return None\n"
   ]
  },
  {
   "cell_type": "code",
   "execution_count": 52,
   "id": "1be7e1dd",
   "metadata": {},
   "outputs": [],
   "source": [
    "def generar_valor_aleatorio():\n",
    "    valores = [30, 40, 50, 60, 70]\n",
    "    probabilidades = [0.20, 0.25, 0.25, 0.20, 0.10]\n",
    "    valor_aleatorio = np.random.choice(valores, p=probabilidades)\n",
    "    return valor_aleatorio"
   ]
  },
  {
   "cell_type": "code",
   "execution_count": 53,
   "id": "9b8057df",
   "metadata": {},
   "outputs": [],
   "source": [
    "def funcion_menor(p):#p representa la demanda\n",
    "    Z = (11*p)-(9*p)-(2*(50-p))-(50-p)\n",
    "    return Z\n",
    "def funcion_mayor(p):  #si p es mayor a 50 solo puede vender 50\n",
    "    Z = 11*50-9*50\n",
    "    return Z\n",
    "\n",
    "p=generar_valor_aleatorio()\n",
    "if(p<=50):\n",
    "    r = funcion_menor(p)\n",
    "else:\n",
    "    r = funcion_mayor(p)"
   ]
  },
  {
   "cell_type": "code",
   "execution_count": 67,
   "id": "a5e08577",
   "metadata": {},
   "outputs": [],
   "source": [
    "sim=[]\n",
    "for _ in range(99999):\n",
    "    p=generar_valor_aleatorio()\n",
    "    if(p<=50):\n",
    "        r = funcion_menor(p)\n",
    "    else:\n",
    "        r = funcion_mayor(p)\n",
    "    sim.append(r)"
   ]
  },
  {
   "cell_type": "code",
   "execution_count": 68,
   "id": "94948002",
   "metadata": {},
   "outputs": [],
   "source": [
    "import matplotlib.pyplot as plt"
   ]
  },
  {
   "cell_type": "code",
   "execution_count": 69,
   "id": "4d69106a",
   "metadata": {},
   "outputs": [
    {
     "data": {
      "text/plain": [
       "67.45017450174501"
      ]
     },
     "execution_count": 69,
     "metadata": {},
     "output_type": "execute_result"
    }
   ],
   "source": [
    "np.mean(sim) #Debe converger al valor 14"
   ]
  },
  {
   "cell_type": "code",
   "execution_count": null,
   "id": "8da55b30",
   "metadata": {},
   "outputs": [],
   "source": [
    "u=0.17\n",
    "renta=30\n",
    "pedido=50\n"
   ]
  }
 ],
 "metadata": {
  "kernelspec": {
   "display_name": "sim2",
   "language": "python",
   "name": "sim2"
  },
  "language_info": {
   "codemirror_mode": {
    "name": "ipython",
    "version": 3
   },
   "file_extension": ".py",
   "mimetype": "text/x-python",
   "name": "python",
   "nbconvert_exporter": "python",
   "pygments_lexer": "ipython3",
   "version": "3.10.12"
  }
 },
 "nbformat": 4,
 "nbformat_minor": 5
}
