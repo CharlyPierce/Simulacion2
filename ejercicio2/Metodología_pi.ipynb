{
 "cells": [
  {
   "cell_type": "markdown",
   "id": "a5cc0a87",
   "metadata": {},
   "source": [
    "# Metodología de la Simulación"
   ]
  },
  {
   "cell_type": "code",
   "execution_count": 43,
   "id": "19f678dd",
   "metadata": {},
   "outputs": [
    {
     "name": "stdout",
     "output_type": "stream",
     "text": [
      "Python 3.11.2\r\n"
     ]
    }
   ],
   "source": [
    "!python --version"
   ]
  },
  {
   "cell_type": "code",
   "execution_count": 2,
   "id": "f71eb21b",
   "metadata": {},
   "outputs": [
    {
     "data": {
      "image/png": "[encoded data removed]",
      "text/plain": [
       "<Figure size 640x480 with 1 Axes>"
      ]
     },
     "metadata": {},
     "output_type": "display_data"
    }
   ],
   "source": [
    "# Importar las bibliotecas necesarias\n",
    "from PIL import Image\n",
    "import matplotlib.pyplot as plt\n",
    "\n",
    "# Leer la imagen desde el archivo\n",
    "imagen = Image.open('5.png')\n",
    "\n",
    "# Mostrar la imagen\n",
    "plt.imshow(imagen)\n",
    "plt.axis('off') # Omitir los ejes para una mejor visualización\n",
    "plt.show()"
   ]
  },
  {
   "cell_type": "markdown",
   "id": "0e218d98",
   "metadata": {},
   "source": [
    "### 1. Identifique las variables \n",
    "\n",
    "Aquellas cuyo comportamiento define el comportamiento o la evoución global del sistema real."
   ]
  },
  {
   "cell_type": "markdown",
   "id": "5e893317",
   "metadata": {},
   "source": [
    "# Estimación del valor de $\\pi$ mediante el método de Monte Carlo\n",
    "\n",
    "La ecuación de un círculo centrado en el origen con radio 1 se define como:\n",
    "\n",
    "$$x^2 + y^2 = 1$$\n",
    "\n",
    "Despejando $y$, obtenemos:\n",
    "\n",
    "$$y = \\sqrt{1 - x^2}$$\n",
    "\n",
    "Considerando solo el primer cuadrante (donde $x$ y $y$ son no negativos), generaremos pares de números $(x_g, y_g)$, donde $x_g$ y $y_g$ siguen una distribución uniforme en el intervalo [0, 1]:\n",
    "\n",
    "$$x_g \\sim \\mathcal{U}(0, 1)$$\n",
    "$$y_g \\sim \\mathcal{U}(0, 1)$$\n",
    "\n",
    "Evaluamos la función $f(x_g) = \\sqrt{1 - x_g^2}$ y comparamos este valor con $y_g$ para determinar la posición del punto:\n",
    "\n",
    "- Si $f(x_g) > y_g$, entonces el punto está bajo la curva.\n",
    "- Si $f(x_g) < y_g$, entonces el punto está por encima de la curva.\n",
    "\n",
    "En este contexto, las variables son $x_g$ y $y_g$. Sabemos que el área del cuarto de círculo se puede calcular como:\n",
    "\n",
    "$$A_{\\text{círculo}} = \\frac{1}{4} \\pi r^2$$\n",
    "\n",
    "Considerando que el radio $r$ es igual a 1, podemos definir la integral  $\\int_0^1 \\sqrt{1-x^2}$, la cual puede ser estimada usando la técnica de Monte Carlo como:\n",
    "\n",
    "$$\\int_0^1 \\sqrt{1-x^2} = \\frac{1}{N} \\sum_{i=1}^{N} g(x_g)$$\n",
    "\n",
    "Ahora igualando al Area\n",
    "\n",
    "$$ \\frac{1}{N} \\sum_{i=1}^{N} g(x_g) = \\frac{\\pi r^2}{4}$$\n",
    "\n",
    "$$r=1$$\n",
    "\n",
    "$$\\text{Estimación de } \\pi = \\frac{4}{N} \\sum_{i=1}^{N} g(x_g)$$\n",
    "\n",
    "Donde $g(x_g)$ es una función indicadora que vale 1 si $f(x_g) > y_g$ y 0 de lo contrario, y $N$ es el número total de puntos generados. Esta estimación nos permite obtener una aproximación del valor de $\\pi$.\n"
   ]
  },
  {
   "cell_type": "markdown",
   "id": "3ebcd0f2",
   "metadata": {},
   "source": [
    "### 2. Determine la distribución de probabilidad\n",
    "\n",
    "Elija el tipo de distribución de probabilidad que mejor defina el comportamiento aleatorio de cada una de las variables del sistema identificadas en el paso anterior."
   ]
  },
  {
   "cell_type": "markdown",
   "id": "b59aa413",
   "metadata": {},
   "source": [
    "$$x_g \\sim \\mathcal{U}(0, 1)$$\n",
    "$$y_g \\sim \\mathcal{U}(0, 1)$$"
   ]
  },
  {
   "cell_type": "markdown",
   "id": "803801d5",
   "metadata": {},
   "source": [
    "### 3. Modele las variables aleatorias \n",
    "\n",
    "Cosntruya un modelo fiel de la aleatoriedad de las variables del sistema. Simular el comportamiento del sistema implica generar muestras aleatorias de cada variable que sigan fielmente la distribución de probabilidad correspondiente."
   ]
  },
  {
   "cell_type": "code",
   "execution_count": 6,
   "id": "898d102c",
   "metadata": {},
   "outputs": [
    {
     "data": {
      "text/plain": [
       "0.37303255026251847"
      ]
     },
     "execution_count": 6,
     "metadata": {},
     "output_type": "execute_result"
    }
   ],
   "source": [
    "import numpy as np\n",
    "\n",
    "xg = np.random.rand()\n",
    "yg = np.random.rand()"
   ]
  },
  {
   "cell_type": "markdown",
   "id": "33709223",
   "metadata": {},
   "source": [
    "### 4. Defina el modelo del sistema y los objetivos de la simulación \n",
    "\n",
    "Fije los objetivos y diseñe un modelo del sistema real que abstraiga sus propiedades más relevantes. Todo error en el modelo (o su implementación computacional) puede dar lugar a conclusiones equivocadas. \n",
    "\n",
    "Antes de experimentar con el modelo, asegurarse de que refleja fielmente el sistema real **validando** el mismo a partir de datos reales, para ello compare los resultados obtenidos de la simulación con los producidos por el sistema."
   ]
  },
  {
   "cell_type": "markdown",
   "id": "733460cc",
   "metadata": {},
   "source": [
    "$$\\text{Estimación de } \\pi = \\frac{4}{N} \\sum_{i=1}^{N} g(x_g)$$"
   ]
  },
  {
   "cell_type": "code",
   "execution_count": 15,
   "id": "b4a851da",
   "metadata": {},
   "outputs": [],
   "source": [
    "def f(x):\n",
    "    y = np.sqrt(1-(x**2))\n",
    "    return y"
   ]
  },
  {
   "cell_type": "code",
   "execution_count": 36,
   "id": "30a165cb",
   "metadata": {},
   "outputs": [],
   "source": [
    "N = 999\n",
    "def prueba():\n",
    "    stimation = []\n",
    "    for _ in range(N):\n",
    "        xg = np.random.rand()\n",
    "        stimation.append(f(xg))\n",
    "\n",
    "    return (sum(stimation)*4)/N"
   ]
  },
  {
   "cell_type": "code",
   "execution_count": 37,
   "id": "c81e71bc",
   "metadata": {},
   "outputs": [],
   "source": [
    "value = []\n",
    "sim = 400\n",
    "\n",
    "for i in range(sim):\n",
    "    value.append(prueba())"
   ]
  },
  {
   "cell_type": "code",
   "execution_count": 38,
   "id": "3eb88242",
   "metadata": {},
   "outputs": [],
   "source": [
    "convergence = np.cumsum(value)/np.arange(1,sim+1)"
   ]
  },
  {
   "cell_type": "code",
   "execution_count": null,
   "id": "dd223319",
   "metadata": {},
   "outputs": [],
   "source": [
    "import matplotlib.pyplot as plt"
   ]
  },
  {
   "cell_type": "code",
   "execution_count": 42,
   "id": "3dbc04d4",
   "metadata": {},
   "outputs": [
    {
     "data": {
      "image/png": "[encoded data removed]",
      "text/plain": [
       "<Figure size 1000x600 with 1 Axes>"
      ]
     },
     "metadata": {},
     "output_type": "display_data"
    }
   ],
   "source": [
    "plt.figure(figsize=[10,6])\n",
    "plt.plot(convergence, color='blue', linewidth=2)\n",
    "\n",
    "plt.xlabel('iteraciones')\n",
    "plt.ylabel('Value')\n",
    "plt.title('Estimacion Pi')\n",
    "plt.grid(True)\n",
    "plt.show()"
   ]
  },
  {
   "cell_type": "markdown",
   "id": "7f853065",
   "metadata": {},
   "source": [
    "### 5. Diseñe el experimento\n",
    "\n",
    "Diseñe un experimento así como las ejecuciones concretas del mismo, los escenarios que desea estudiar para alcanzar los objetivos fijados. El experimento consiste en generar valores de las variables cuyo comportamiento define el comportamiento del sistema y analizar este ante dichos valores."
   ]
  },
  {
   "cell_type": "markdown",
   "id": "20ae3be9",
   "metadata": {},
   "source": [
    "# Para calcular pi por el metodo de proporciones"
   ]
  },
  {
   "cell_type": "markdown",
   "id": "2821c33b",
   "metadata": {},
   "source": [
    "# Estimación del valor de $\\pi$ mediante el método de Monte Carlo\n",
    "\n",
    "La ecuación de un círculo centrado en el origen con radio 1 se define como:\n",
    "\n",
    "$$x^2 + y^2 = 1$$\n",
    "\n",
    "Despejando $y$, obtenemos:\n",
    "\n",
    "$$y = \\sqrt{1 - x^2}$$\n",
    "\n",
    "Considerando solo el primer cuadrante (donde $x$ y $y$ son no negativos), generaremos pares de números $(x_g, y_g)$, donde $x_g$ y $y_g$ siguen una distribución uniforme en el intervalo [0, 1]:\n",
    "\n",
    "$$x_g \\sim \\mathcal{U}(0, 1)$$\n",
    "$$y_g \\sim \\mathcal{U}(0, 1)$$\n",
    "\n",
    "Evaluamos la función $f(x_g) = \\sqrt{1 - x_g^2}$ y comparamos este valor con $y_g$ para determinar la posición del punto:\n",
    "\n",
    "- Si $f(x_g) > y_g$, entonces el punto está bajo la curva.\n",
    "- Si $f(x_g) < y_g$, entonces el punto está por encima de la curva.\n",
    "\n",
    "En este contexto, las variables son $x_g$ y $y_g$. Sabemos que el área del cuarto de círculo se puede calcular como:\n",
    "\n",
    "$$A_{\\text{círculo}} = \\frac{1}{4} \\pi r^2$$\n",
    "\n",
    "Considerando que el radio $r$ es igual a 1, podemos definir la integral  $\\int_0^1 \\sqrt{1-x^2}$, la cual puede ser estimada usando la técnica de Monte Carlo como:\n",
    "\n",
    "$$\\int_0^1 \\sqrt{1-x^2} = 1\\frac{N_a}{N}$$\n",
    "\n",
    "Donde N_a son los puntos que caen debajo del area y N el Numero total de puntos.\n",
    "\n",
    "Ahora igualando al Area\n",
    "\n",
    "$$ 1\\frac{N_a}{N} = \\frac{\\pi r^2}{4}$$\n",
    "\n",
    "$$r=1$$\n",
    "\n",
    "$$\\text{Estimación de } \\pi = 4\\frac{N_a}{N} $$"
   ]
  },
  {
   "cell_type": "code",
   "execution_count": 45,
   "id": "c9e8fe72",
   "metadata": {},
   "outputs": [],
   "source": [
    "def f(x):\n",
    "    y = np.sqrt(1-(x**2))\n",
    "    return y"
   ]
  },
  {
   "cell_type": "code",
   "execution_count": 64,
   "id": "345a0904",
   "metadata": {},
   "outputs": [],
   "source": [
    "def pi():\n",
    "    Na=0\n",
    "    N=999\n",
    "    for _ in range(N):\n",
    "        xg = np.random.rand()\n",
    "        yg = np.random.rand()\n",
    "        if(f(xg)>=yg):\n",
    "            Na+=1\n",
    "    return 4*(Na/N)"
   ]
  },
  {
   "cell_type": "code",
   "execution_count": 80,
   "id": "91188265",
   "metadata": {},
   "outputs": [],
   "source": [
    "sim=9999\n",
    "convergencia = []\n",
    "\n",
    "for i in range(sim):\n",
    "    convergencia.append(pi())"
   ]
  },
  {
   "cell_type": "code",
   "execution_count": 81,
   "id": "941bbb46",
   "metadata": {},
   "outputs": [],
   "source": [
    "valor = np.cumsum(convergencia)/np.arange(1,sim+1) "
   ]
  },
  {
   "cell_type": "code",
   "execution_count": 82,
   "id": "ac78312c",
   "metadata": {},
   "outputs": [
    {
     "data": {
      "image/png": "[encoded data removed]",
      "text/plain": [
       "<Figure size 1000x600 with 1 Axes>"
      ]
     },
     "metadata": {},
     "output_type": "display_data"
    }
   ],
   "source": [
    "import matplotlib.pyplot as plt\n",
    "\n",
    "plt.figure(figsize=[10,6])\n",
    "plt.plot(valor, color='blue', linewidth=2)\n",
    "\n",
    "\n",
    "plt.xlabel('iteraciones')\n",
    "plt.ylabel('Value')\n",
    "plt.title('Estimacion Pi')\n",
    "plt.grid(True)\n",
    "plt.show()"
   ]
  },
  {
   "cell_type": "code",
   "execution_count": 86,
   "id": "c3aa0e8d",
   "metadata": {},
   "outputs": [
    {
     "data": {
      "text/plain": [
       "(3.1404649627500905, 3.1424912608001923)"
      ]
     },
     "execution_count": 86,
     "metadata": {},
     "output_type": "execute_result"
    }
   ],
   "source": [
    "#Intervalo de confiaza al 95%\n",
    "np.mean(convergencia)-1.96*np.std(convergencia)/np.sqrt(len(convergencia)),np.mean(convergencia)+1.96*np.std(convergencia)/np.sqrt(len(convergencia))"
   ]
  },
  {
   "cell_type": "code",
   "execution_count": 87,
   "id": "040792d7",
   "metadata": {},
   "outputs": [
    {
     "data": {
      "text/plain": [
       "(3.140149645961682, 3.1428065775886007)"
      ]
     },
     "execution_count": 87,
     "metadata": {},
     "output_type": "execute_result"
    }
   ],
   "source": [
    "#Intervalo de confiaza al 99%\n",
    "np.mean(convergencia)-2.57*np.std(convergencia)/np.sqrt(len(convergencia)),np.mean(convergencia)+2.57*np.std(convergencia)/np.sqrt(len(convergencia))"
   ]
  },
  {
   "cell_type": "markdown",
   "id": "15ae61c8",
   "metadata": {},
   "source": [
    "### 6. Repita el experimento $n$ veces \n",
    "\n",
    "Así dispondrá de $n$ observaciones sobre el comportamiento del sistema, lo que permitirá entender su funcionamiento así como evaluar el desempeño del mismo frente a los diversos escenarios establecidos.\n",
    "\n",
    "El **método Monte Carlo** se basa en la **Ley Fuerte de los Grandes Números** y el **Teorema del Límite Central**."
   ]
  },
  {
   "cell_type": "markdown",
   "id": "51ce3fa1",
   "metadata": {},
   "source": [
    "## Ejemplo\n",
    "\n",
    "Calcule la probabilidad de que aparezcan dos caras lanzando tres veces una moneda al aire.\n",
    "\n",
    "1. Analíticamente.\n",
    "2. Mediante simulación."
   ]
  },
  {
   "cell_type": "markdown",
   "id": "6f1b4105",
   "metadata": {},
   "source": [
    "Analiticamente:"
   ]
  },
  {
   "cell_type": "markdown",
   "id": "960c5faa",
   "metadata": {},
   "source": [
    "# Cálculo analítico\n",
    "\n",
    "Para calcular la probabilidad de obtener dos caras (`C`) y una cruz (`X`) al lanzar una moneda tres veces, necesitamos considerar todos los posibles resultados donde esto pueda ocurrir. Los posibles resultados donde ocurren exactamente dos caras y una cruz son:\n",
    "\n",
    "- CCA\n",
    "- CAC\n",
    "- ACC\n",
    "\n",
    "Como los lanzamientos de la moneda son eventos independientes, la probabilidad de cada secuencia específica de lanzamientos es el producto de las probabilidades de los resultados individuales. Si la moneda es justa, la probabilidad de cara (`C`) en un solo lanzamiento es 0.5 y la probabilidad de cruz (`X`) también es 0.5.\n",
    "\n",
    "Por lo tanto, la probabilidad de cada combinación que resulta en dos caras y una cruz es:\n",
    "\n",
    "P(CCA) = P(C) * P(C) * P(X) = 0.5 * 0.5 * 0.5 = 0.125\n",
    "P(CAC) = P(C) * P(X) * P(C) = 0.5 * 0.5 * 0.5 = 0.125\n",
    "P(ACC) = P(X) * P(C) * P(C) = 0.5 * 0.5 * 0.5 = 0.125\n",
    "\n",
    "Ya que estos eventos son mutuamente excluyentes, la probabilidad total de obtener dos caras y una cruz es la suma de las probabilidades de cada uno de estos eventos:\n",
    "\n",
    "P(dos caras en tres lanzamientos) = P(CCA) + P(CAC) + P(ACC) = 0.125 + 0.125 + 0.125 = 0.375\n"
   ]
  },
  {
   "cell_type": "markdown",
   "id": "ae3075aa",
   "metadata": {},
   "source": [
    "Lo que es igual que calcular \n",
    "\n",
    "$3C2 (0.5)^2(1-0.5)^1=\\frac{3}{8}=37.5%$"
   ]
  },
  {
   "cell_type": "markdown",
   "id": "564ca694",
   "metadata": {},
   "source": [
    "Por simulación: Construimos el modelo en varios pasos."
   ]
  },
  {
   "cell_type": "markdown",
   "id": "fbbc8571",
   "metadata": {},
   "source": [
    "**PASO 1**. Defina las variables que intervienen en el modelo."
   ]
  },
  {
   "cell_type": "code",
   "execution_count": 8,
   "id": "37c5f31c",
   "metadata": {},
   "outputs": [],
   "source": [
    "# Número de simulaciones\n",
    "n_simulaciones = 10000\n",
    "contador_dos_caras = 0"
   ]
  },
  {
   "cell_type": "markdown",
   "id": "4d3899f3",
   "metadata": {},
   "source": [
    "**PASO 2**. Formule la distribución de probabilidad de cada variable."
   ]
  },
  {
   "cell_type": "code",
   "execution_count": 12,
   "id": "e1e65e40",
   "metadata": {},
   "outputs": [
    {
     "name": "stdout",
     "output_type": "stream",
     "text": [
      "Probabilidad simulada de obtener dos caras en tres lanzamientos: 0.7521\n",
      " 0.2479\n"
     ]
    }
   ],
   "source": [
    "import random\n",
    "\n",
    "for _ in range(n_simulaciones):\n",
    "    lanzamientos = [random.choice(['C', 'X']) for _ in range(3)]\n",
    "    if lanzamientos.count('C') == 2:\n",
    "        contador_dos_caras += 1\n",
    "\n",
    "probabilidad_simulada = contador_dos_caras / n_simulaciones\n",
    "print(f\"Probabilidad simulada de obtener dos caras en tres lanzamientos: {probabilidad_simulada}\")\n",
    "print(f\" {1-probabilidad_simulada}\")\n"
   ]
  },
  {
   "cell_type": "markdown",
   "id": "fefa1334",
   "metadata": {},
   "source": [
    "\n",
    "|      |**Sol**|**Aguila**|\n",
    "|------|-------|----------|\n",
    "|f(x)|         p|          1-p|"
   ]
  },
  {
   "cell_type": "markdown",
   "id": "fd02116a",
   "metadata": {},
   "source": [
    "**PASO 3**. Enumere la distribución acumulada de probabilidad de cada variable."
   ]
  },
  {
   "cell_type": "markdown",
   "id": "59e252c6",
   "metadata": {},
   "source": [
    "|      |**Sol**|**Aguila**|\n",
    "|------|-------|----------|\n",
    "|f(x)  |     0.3727  |          |\n",
    "|F(x)  |      0.3727 |  0.6273        |"
   ]
  },
  {
   "cell_type": "markdown",
   "id": "4852dcac",
   "metadata": {},
   "source": [
    "**PASO 4**. Establezca el intervalo de números aleatorios correspondiente a cada valor de cada una de las variables."
   ]
  },
  {
   "cell_type": "markdown",
   "id": "905db069",
   "metadata": {},
   "source": [
    "|           |**Sol**|**Aguila**|\n",
    "|-----------|-------|----------|\n",
    "|f(x)       |       |          |\n",
    "|F(x)       |       |          |\n",
    "|Intervalos |       |          |"
   ]
  },
  {
   "cell_type": "markdown",
   "id": "edb6b074",
   "metadata": {},
   "source": [
    "**PASO 5**. Genere números aleatorios."
   ]
  },
  {
   "cell_type": "code",
   "execution_count": null,
   "id": "7d56c432",
   "metadata": {},
   "outputs": [],
   "source": []
  },
  {
   "cell_type": "markdown",
   "id": "f38f3396",
   "metadata": {},
   "source": [
    "**PASO 6**. Simule un lanzamiento."
   ]
  },
  {
   "cell_type": "markdown",
   "id": "a68ba17e",
   "metadata": {},
   "source": [
    "Si Número de caras = 2       \n",
    "\n",
    "¿Aparecen dos caras? = **1**\n",
    "\n",
    "Si Número de caras ≠ 2       \n",
    "\n",
    "¿Aparecen dos caras? = **0**"
   ]
  },
  {
   "cell_type": "markdown",
   "id": "d270399e",
   "metadata": {},
   "source": [
    "**PASO 7**. Obtenga la gráfica de estabilización que indica que el tamaño de muestra utilizado es suficiente para \n",
    "garantizar la convergencia del resultado."
   ]
  },
  {
   "cell_type": "code",
   "execution_count": 13,
   "id": "2fd22e33",
   "metadata": {},
   "outputs": [],
   "source": [
    "import numpy as np\n",
    "import random\n",
    "import matplotlib.pyplot as plt"
   ]
  },
  {
   "cell_type": "code",
   "execution_count": 14,
   "id": "32719c0f",
   "metadata": {},
   "outputs": [],
   "source": [
    "def volados(n):\n",
    "    caras = 0\n",
    "    for i in range(n):\n",
    "        u = random.uniform(0,1)\n",
    "        if u <= 0.5:\n",
    "            caras += 1\n",
    "    return caras"
   ]
  },
  {
   "cell_type": "code",
   "execution_count": 15,
   "id": "423546a4",
   "metadata": {},
   "outputs": [],
   "source": [
    "def caras(m):\n",
    "    favorable = 0\n",
    "    if volados(3) == m:\n",
    "        favorable +=1\n",
    "    return favorable"
   ]
  },
  {
   "cell_type": "code",
   "execution_count": 16,
   "id": "0d2847cf",
   "metadata": {},
   "outputs": [],
   "source": [
    "def experimento(iteraciones):\n",
    "    i = 0\n",
    "    favorables=0\n",
    "    Lista = []\n",
    "    while i <= iteraciones:\n",
    "        favorables = favorables + caras(2)\n",
    "        i += 1\n",
    "        probabilidad = favorables/i\n",
    "        Lista.append(probabilidad)\n",
    "    return Lista"
   ]
  },
  {
   "cell_type": "code",
   "execution_count": 17,
   "id": "548249d8",
   "metadata": {},
   "outputs": [],
   "source": [
    "exp = experimento(2000)"
   ]
  },
  {
   "cell_type": "code",
   "execution_count": 18,
   "id": "566325f4",
   "metadata": {},
   "outputs": [
    {
     "data": {
      "text/plain": [
       "0.395864634080561"
      ]
     },
     "execution_count": 18,
     "metadata": {},
     "output_type": "execute_result"
    }
   ],
   "source": [
    "np.mean(exp)"
   ]
  },
  {
   "cell_type": "code",
   "execution_count": 24,
   "id": "ef68f87c",
   "metadata": {},
   "outputs": [
    {
     "data": {
      "image/png": "[encoded data removed]",
      "text/plain": [
       "<Figure size 640x480 with 1 Axes>"
      ]
     },
     "metadata": {},
     "output_type": "display_data"
    }
   ],
   "source": [
    "plt.figure(figsize=[10,6])\n",
    "plt.plot(exp, color='blue', linewidth=2)\n",
    "\n",
    "plt.xlabel('iteraciones')\n",
    "plt.ylabel('p')\n",
    "plt.title('Probabilidad de obtener 2 caras')\n",
    "plt.grid(True)\n",
    "plt.show()"
   ]
  },
  {
   "cell_type": "markdown",
   "id": "f596fcd1",
   "metadata": {},
   "source": [
    "**PASO 8**. Replique el modelo."
   ]
  },
  {
   "cell_type": "code",
   "execution_count": 20,
   "id": "b237f0d0",
   "metadata": {},
   "outputs": [],
   "source": [
    "def simulacion_caras(repeticiones):\n",
    "    List = []\n",
    "    for i in range(repeticiones):\n",
    "        List.append(np.mean(experimento(1000)))\n",
    "    return List"
   ]
  },
  {
   "cell_type": "code",
   "execution_count": 21,
   "id": "d060db89",
   "metadata": {},
   "outputs": [],
   "source": [
    "simulacion = simulacion_caras(50)"
   ]
  },
  {
   "cell_type": "code",
   "execution_count": 22,
   "id": "cc0b958d",
   "metadata": {},
   "outputs": [
    {
     "data": {
      "image/png": "[encoded data removed]",
      "text/plain": [
       "<Figure size 640x480 with 1 Axes>"
      ]
     },
     "metadata": {},
     "output_type": "display_data"
    }
   ],
   "source": [
    "plt.hist(simulacion)\n",
    "plt.xlabel('iteraciones')\n",
    "plt.ylabel('p')\n",
    "plt.title('Probabilidad')\n",
    "plt.show()"
   ]
  },
  {
   "cell_type": "markdown",
   "id": "6e9bd469",
   "metadata": {},
   "source": [
    "**PASO 9**. Calcule la probabilidad de que aparezcan dos caras lanzando tres veces una moneda al aire y su desviación \n",
    "estándar."
   ]
  },
  {
   "cell_type": "code",
   "execution_count": 23,
   "id": "dbeb0461",
   "metadata": {},
   "outputs": [
    {
     "data": {
      "text/plain": [
       "(0.3743205280261227, 0.0004135891339124883, 0.020336890959841633)"
      ]
     },
     "execution_count": 23,
     "metadata": {},
     "output_type": "execute_result"
    }
   ],
   "source": [
    "np.mean(simulacion), np.var(simulacion), np.std(simulacion)"
   ]
  },
  {
   "cell_type": "markdown",
   "id": "db8776d2",
   "metadata": {},
   "source": [
    "**PASO 10**. Halle el intervalo de confianza de la probabilidad de queaparezcan dos caras lanzando tres veces una moneda \n",
    "al aire con un nivel de confianza del $95 \\%$."
   ]
  },
  {
   "cell_type": "markdown",
   "id": "2e7cc76b",
   "metadata": {},
   "source": [
    "# Intervalo de Confianza para la Media\n",
    "\n",
    "El intervalo de confianza para la media poblacional (μ) se calcula como:\n",
    "\n",
    "$ \\bar{X} \\pm Z_{\\alpha/2} \\times \\left(\\frac{S}{\\sqrt{n}}\\right)  $\n",
    "\n",
    "Donde:\n",
    "- \\( $\\bar{X}$ \\) es la media de la muestra.\n",
    "- \\( $Z_{\\alpha/2}$ \\) es el valor crítico de la distribución normal estándar para un nivel de confianza dado (por ejemplo, 1.96 para el 95% de nivel de confianza).\n",
    "- \\( S \\) es la desviación estándar de la muestra.\n",
    "- \\( n \\) es el tamaño de la muestra."
   ]
  },
  {
   "cell_type": "code",
   "execution_count": 25,
   "id": "bc8bcd59",
   "metadata": {},
   "outputs": [],
   "source": [
    "import numpy as np\n",
    "import scipy.stats as stats\n",
    "\n",
    "# Suponiendo que 'simulacion' es tu array de datos\n",
    "media_muestra = np.mean(simulacion)\n",
    "desviacion_estandar_muestra = np.std(simulacion, ddof=1)\n",
    "n = len(simulacion)\n",
    "Zalpha_2 = stats.norm.ppf(0.975)  # Valor Z para el 95% de nivel de confianza\n",
    "\n",
    "margen_error = Zalpha_2 * (desviacion_estandar_muestra / np.sqrt(n))\n",
    "intervalo_confianza = (media_muestra - margen_error, media_muestra + margen_error)\n"
   ]
  },
  {
   "cell_type": "code",
   "execution_count": 26,
   "id": "d034e28f",
   "metadata": {},
   "outputs": [
    {
     "data": {
      "text/plain": [
       "0.005694224834115401"
      ]
     },
     "execution_count": 26,
     "metadata": {},
     "output_type": "execute_result"
    }
   ],
   "source": [
    "margen_error"
   ]
  },
  {
   "cell_type": "code",
   "execution_count": 27,
   "id": "a4a4e462",
   "metadata": {},
   "outputs": [
    {
     "data": {
      "text/plain": [
       "(0.3686263031920073, 0.3800147528602381)"
      ]
     },
     "execution_count": 27,
     "metadata": {},
     "output_type": "execute_result"
    }
   ],
   "source": [
    "intervalo_confianza"
   ]
  },
  {
   "cell_type": "markdown",
   "id": "831f8670",
   "metadata": {},
   "source": [
    "# Fin"
   ]
  },
  {
   "cell_type": "code",
   "execution_count": null,
   "id": "f8d32323",
   "metadata": {},
   "outputs": [],
   "source": []
  }
 ],
 "metadata": {
  "kernelspec": {
   "display_name": "sim2",
   "language": "python",
   "name": "sim2"
  },
  "language_info": {
   "codemirror_mode": {
    "name": "ipython",
    "version": 3
   },
   "file_extension": ".py",
   "mimetype": "text/x-python",
   "name": "python",
   "nbconvert_exporter": "python",
   "pygments_lexer": "ipython3",
   "version": "3.10.12"
  }
 },
 "nbformat": 4,
 "nbformat_minor": 5
}
